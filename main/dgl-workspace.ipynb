{
 "cells": [
  {
   "cell_type": "code",
   "execution_count": 1,
   "id": "5622d9cc-554c-43e6-8aef-7c8c2b8a2f4d",
   "metadata": {},
   "outputs": [
    {
     "name": "stderr",
     "output_type": "stream",
     "text": [
      "/Users/peterhuang/Library/Python/3.8/lib/python/site-packages/urllib3/__init__.py:34: NotOpenSSLWarning: urllib3 v2.0 only supports OpenSSL 1.1.1+, currently the 'ssl' module is compiled with 'LibreSSL 2.8.3'. See: https://github.com/urllib3/urllib3/issues/3020\n",
      "  warnings.warn(\n"
     ]
    }
   ],
   "source": [
    "import os\n",
    "\n",
    "os.environ[\"DGLBACKEND\"] = \"pytorch\"\n",
    "import dgl\n",
    "import numpy as np\n",
    "import torch\n",
    "\n",
    "g = dgl.graph(([0, 0, 0, 0, 0], [1, 2, 3, 4, 5]), num_nodes=6)\n",
    "# Equivalently, PyTorch LongTensors also work.\n",
    "g = dgl.graph(\n",
    "    (torch.LongTensor([0, 0, 0, 0, 0]), torch.LongTensor([1, 2, 3, 4, 5])),\n",
    "    num_nodes=6,\n",
    ")\n",
    "\n",
    "# You can omit the number of nodes argument if you can tell the number of nodes from the edge list alone.\n",
    "g = dgl.graph(([0, 0, 0, 0, 0], [1, 2, 3, 4, 5]))"
   ]
  },
  {
   "cell_type": "code",
   "execution_count": null,
   "id": "c36389ce-ede1-49fb-b304-62e05e27ee01",
   "metadata": {},
   "outputs": [
    {
     "name": "stdout",
     "output_type": "stream",
     "text": [
      "tensor([[-1.0610, -2.6291, -1.5116,  1.2287],\n",
      "        [ 0.4833, -1.6545, -1.1173,  0.0300],\n",
      "        [ 0.0089,  0.4669,  0.4350,  1.2601],\n",
      "        [ 0.7695,  2.0895, -1.7074, -0.5123],\n",
      "        [ 0.0142, -0.0962, -1.2562, -0.8136]])\n"
     ]
    }
   ],
   "source": [
    "# Assign a 3-dimensional node feature vector for each node.\n",
    "g.ndata[\"x\"] = torch.randn(6, 3)\n",
    "# Assign a 4-dimensional edge feature vector for each edge.\n",
    "g.edata[\"a\"] = torch.randn(5, 4)\n",
    "# Assign a 5x4 node feature matrix for each node.  Node and edge features in DGL can be multi-dimensional.\n",
    "g.ndata[\"y\"] = torch.randn(6, 5, 4)\n",
    "\n",
    "print(g.edata[\"a\"])"
   ]
  },
  {
   "cell_type": "markdown",
   "id": "39445269-ba9d-4047-a40f-d9918315a31f",
   "metadata": {},
   "source": [
    "## Quantifying Graph Structure"
   ]
  },
  {
   "cell_type": "code",
   "execution_count": null,
   "id": "89e98920-a056-44af-8e83-2a8a2a48861d",
   "metadata": {},
   "outputs": [
    {
     "name": "stdout",
     "output_type": "stream",
     "text": [
      "6\n",
      "5\n",
      "5\n",
      "0\n"
     ]
    }
   ],
   "source": [
    "print(g.num_nodes())\n",
    "print(g.num_edges())\n",
    "# Out degrees of the center node\n",
    "print(g.out_degrees(0))\n",
    "# In degrees of the center node - note that the graph is directed so the in degree should be 0.\n",
    "print(g.in_degrees(0))"
   ]
  },
  {
   "cell_type": "code",
   "execution_count": null,
   "id": "0ce12075-939f-4540-b676-efeb4a7c9182",
   "metadata": {},
   "outputs": [],
   "source": [
    "# Induce a subgraph from node 0, node 1 and node 3 from the original graph.\n",
    "sg1 = g.subgraph([0, 1, 3])\n",
    "# Induce a subgraph from edge 0, edge 1 and edge 3 from the original graph.\n",
    "sg2 = g.edge_subgraph([0, 1, 3])"
   ]
  },
  {
   "cell_type": "code",
   "execution_count": null,
   "id": "23feaf4c-c165-4e6f-829d-09d68424972c",
   "metadata": {},
   "outputs": [
    {
     "name": "stdout",
     "output_type": "stream",
     "text": [
      "torch.Size([3, 3])\n",
      "torch.Size([2, 4])\n",
      "tensor([[-0.3360, -0.9976, -2.4161],\n",
      "        [ 2.4269, -0.9421,  0.6361],\n",
      "        [ 1.2461,  0.8691,  1.0383],\n",
      "        [ 0.8714, -0.4506, -0.8767]])\n",
      "tensor([[-1.0610, -2.6291, -1.5116,  1.2287],\n",
      "        [ 0.4833, -1.6545, -1.1173,  0.0300],\n",
      "        [ 0.7695,  2.0895, -1.7074, -0.5123]])\n"
     ]
    }
   ],
   "source": [
    "# The original node feature of each node in sg1\n",
    "print(sg1.ndata[\"x\"].shape)\n",
    "# The original edge feature of each node in sg1\n",
    "print(sg1.edata[\"a\"].shape)\n",
    "# The original node feature of each node in sg2\n",
    "print(sg2.ndata[\"x\"])\n",
    "# The original edge feature of each node in sg2\n",
    "print(sg2.edata[\"a\"])"
   ]
  },
  {
   "cell_type": "markdown",
   "id": "e5ccaefb-0a54-4bd5-8bc3-25843a944a33",
   "metadata": {},
   "source": [
    "## Save and Load Graphs"
   ]
  },
  {
   "cell_type": "code",
   "execution_count": null,
   "id": "f98d5df9-bfa1-4f5d-aeed-615b0f49f3c9",
   "metadata": {},
   "outputs": [],
   "source": [
    "dgl.save_graphs(\"graph.dgl\", g)"
   ]
  },
  {
   "cell_type": "code",
   "execution_count": null,
   "id": "a8bb496f-89a4-4c48-8672-8bafb540d5b2",
   "metadata": {},
   "outputs": [
    {
     "name": "stdout",
     "output_type": "stream",
     "text": [
      "[Graph(num_nodes=6, num_edges=5,\n",
      "      ndata_schemes={'y': Scheme(shape=(5, 4), dtype=torch.float32), 'x': Scheme(shape=(3,), dtype=torch.float32)}\n",
      "      edata_schemes={'a': Scheme(shape=(4,), dtype=torch.float32)})]\n",
      "-----\n",
      "{}\n"
     ]
    }
   ],
   "source": [
    "a,b = dgl.load_graphs(\"graph.dgl\")\n",
    "print(a)\n",
    "print(\"-----\")\n",
    "print(b)"
   ]
  },
  {
   "cell_type": "markdown",
   "id": "0d23b651-bd29-4013-9dd4-a189982c1f6b",
   "metadata": {},
   "source": [
    "## Custom GNN for Graph Classification Example"
   ]
  },
  {
   "cell_type": "code",
   "execution_count": null,
   "id": "4b8f4e3c-9f31-45ca-b516-054509f4efc1",
   "metadata": {},
   "outputs": [],
   "source": [
    "import os\n",
    "\n",
    "os.environ[\"DGLBACKEND\"] = \"pytorch\"\n",
    "import dgl\n",
    "import dgl.data\n",
    "import torch\n",
    "import torch.nn as nn\n",
    "import torch.nn.functional as F"
   ]
  },
  {
   "cell_type": "code",
   "execution_count": null,
   "id": "a9250874-c28b-441f-836e-f958c1ecbd6d",
   "metadata": {},
   "outputs": [
    {
     "name": "stdout",
     "output_type": "stream",
     "text": [
      "Downloading /home/featurize/.dgl/GINDataset.zip from https://raw.githubusercontent.com/weihua916/powerful-gnns/master/dataset.zip...\n",
      "Extracting file to /home/featurize/.dgl/GINDataset\n"
     ]
    }
   ],
   "source": [
    "# Generate a synthetic dataset with 10000 graphs, ranging from 10 to 500 nodes.\n",
    "dataset = dgl.data.GINDataset(\"PROTEINS\", self_loop=True)"
   ]
  },
  {
   "cell_type": "code",
   "execution_count": null,
   "id": "bcec1e70-3db5-4a0c-8893-ae44b42534b8",
   "metadata": {},
   "outputs": [
    {
     "name": "stdout",
     "output_type": "stream",
     "text": [
      "Node feature dimensionality: 3\n",
      "Number of graph categories: 2\n"
     ]
    }
   ],
   "source": [
    "print(\"Node feature dimensionality:\", dataset.dim_nfeats)\n",
    "print(\"Number of graph categories:\", dataset.gclasses)\n",
    "\n",
    "\n",
    "from dgl.dataloading import GraphDataLoader"
   ]
  },
  {
   "cell_type": "code",
   "execution_count": null,
   "id": "4aff3305-2c75-41ed-b32a-cd51f120da20",
   "metadata": {},
   "outputs": [
    {
     "ename": "AttributeError",
     "evalue": "'GINDataset' object has no attribute 'graph_label'",
     "output_type": "error",
     "traceback": [
      "\u001b[0;31m---------------------------------------------------------------------------\u001b[0m",
      "\u001b[0;31mAttributeError\u001b[0m                            Traceback (most recent call last)",
      "Cell \u001b[0;32mIn[24], line 1\u001b[0m\n\u001b[0;32m----> 1\u001b[0m \u001b[38;5;28mprint\u001b[39m(\u001b[43mdataset\u001b[49m\u001b[38;5;241;43m.\u001b[39;49m\u001b[43mgraph_label\u001b[49m)\n",
      "\u001b[0;31mAttributeError\u001b[0m: 'GINDataset' object has no attribute 'graph_label'"
     ]
    }
   ],
   "source": [
    "print(dataset.graph_label)"
   ]
  },
  {
   "cell_type": "markdown",
   "id": "b564bdbe-60ac-4702-81af-f3214fd93447",
   "metadata": {},
   "source": [
    "### Define a Graph Dataloader"
   ]
  },
  {
   "cell_type": "code",
   "execution_count": null,
   "id": "33111905-1b07-4e83-b062-796e5b1f2cf7",
   "metadata": {},
   "outputs": [],
   "source": []
  },
  {
   "cell_type": "code",
   "execution_count": null,
   "id": "a2dbcde5-3035-4fe9-9bb7-cbbdebfbe5f5",
   "metadata": {},
   "outputs": [],
   "source": [
    "from torch.utils.data.sampler import SubsetRandomSampler\n",
    "\n",
    "num_examples = len(dataset)\n",
    "num_train = int(num_examples * 0.8)\n",
    "\n",
    "train_sampler = SubsetRandomSampler(torch.arange(num_train))\n",
    "test_sampler = SubsetRandomSampler(torch.arange(num_train, num_examples))\n",
    "\n",
    "train_dataloader = GraphDataLoader(\n",
    "    dataset, sampler=train_sampler, batch_size=5, drop_last=False\n",
    ")\n",
    "test_dataloader = GraphDataLoader(\n",
    "    dataset, sampler=test_sampler, batch_size=5, drop_last=False\n",
    ")"
   ]
  },
  {
   "cell_type": "code",
   "execution_count": null,
   "id": "d95342d6-bd85-45f6-ab93-f830ae741e63",
   "metadata": {},
   "outputs": [
    {
     "name": "stdout",
     "output_type": "stream",
     "text": [
      "[Graph(num_nodes=202, num_edges=892,\n",
      "      ndata_schemes={'label': Scheme(shape=(), dtype=torch.int64), 'attr': Scheme(shape=(3,), dtype=torch.float32)}\n",
      "      edata_schemes={}), tensor([0, 0, 1, 0, 1])]\n"
     ]
    }
   ],
   "source": [
    "it = iter(train_dataloader)\n",
    "batch = next(it)\n",
    "print(batch)"
   ]
  },
  {
   "cell_type": "code",
   "execution_count": null,
   "id": "07a8f93b-ca39-4c51-b173-8bb02ecb5c68",
   "metadata": {},
   "outputs": [
    {
     "name": "stdout",
     "output_type": "stream",
     "text": [
      "Number of nodes for each graph element in the batch: tensor([30, 52, 13, 84, 23])\n",
      "Number of edges for each graph element in the batch: tensor([142, 250,  65, 320, 115])\n",
      "The original graphs in the minibatch:\n",
      "[Graph(num_nodes=30, num_edges=142,\n",
      "      ndata_schemes={'label': Scheme(shape=(), dtype=torch.int64), 'attr': Scheme(shape=(3,), dtype=torch.float32)}\n",
      "      edata_schemes={}), Graph(num_nodes=52, num_edges=250,\n",
      "      ndata_schemes={'label': Scheme(shape=(), dtype=torch.int64), 'attr': Scheme(shape=(3,), dtype=torch.float32)}\n",
      "      edata_schemes={}), Graph(num_nodes=13, num_edges=65,\n",
      "      ndata_schemes={'label': Scheme(shape=(), dtype=torch.int64), 'attr': Scheme(shape=(3,), dtype=torch.float32)}\n",
      "      edata_schemes={}), Graph(num_nodes=84, num_edges=320,\n",
      "      ndata_schemes={'label': Scheme(shape=(), dtype=torch.int64), 'attr': Scheme(shape=(3,), dtype=torch.float32)}\n",
      "      edata_schemes={}), Graph(num_nodes=23, num_edges=115,\n",
      "      ndata_schemes={'label': Scheme(shape=(), dtype=torch.int64), 'attr': Scheme(shape=(3,), dtype=torch.float32)}\n",
      "      edata_schemes={})]\n"
     ]
    }
   ],
   "source": [
    "batched_graph, labels = batch\n",
    "print(\n",
    "    \"Number of nodes for each graph element in the batch:\",\n",
    "    batched_graph.batch_num_nodes(),\n",
    ")\n",
    "print(\n",
    "    \"Number of edges for each graph element in the batch:\",\n",
    "    batched_graph.batch_num_edges(),\n",
    ")\n",
    "\n",
    "# Recover the original graph elements from the minibatch\n",
    "graphs = dgl.unbatch(batched_graph)\n",
    "print(\"The original graphs in the minibatch:\")\n",
    "print(graphs)"
   ]
  },
  {
   "cell_type": "markdown",
   "id": "b7c91086-6f49-499b-a8fa-ee578a54b68e",
   "metadata": {},
   "source": [
    "### Define Simple GCN"
   ]
  },
  {
   "cell_type": "code",
   "execution_count": null,
   "id": "ba75a36b-81f4-4cb4-8e5f-f0412c89cd0b",
   "metadata": {},
   "outputs": [],
   "source": [
    "from dgl.nn import GraphConv\n",
    "\n",
    "\n",
    "class GCN(nn.Module):\n",
    "    def __init__(self, in_feats, h_feats, num_classes):\n",
    "        super(GCN, self).__init__()\n",
    "        self.conv1 = GraphConv(in_feats, h_feats)\n",
    "        self.conv2 = GraphConv(h_feats, num_classes)\n",
    "\n",
    "    def forward(self, g, in_feat):\n",
    "        h = self.conv1(g, in_feat)\n",
    "        h = F.relu(h)\n",
    "        h = self.conv2(g, h)\n",
    "        g.ndata[\"h\"] = h\n",
    "        return dgl.mean_nodes(g, \"h\")"
   ]
  },
  {
   "cell_type": "code",
   "execution_count": null,
   "id": "670f14c5-8a19-4872-ae49-4633b4dc5859",
   "metadata": {},
   "outputs": [
    {
     "name": "stdout",
     "output_type": "stream",
     "text": [
      "data  hact-net\twork\n"
     ]
    }
   ],
   "source": [
    "!ls ../../"
   ]
  },
  {
   "cell_type": "code",
   "execution_count": null,
   "id": "025ccdbe-75f0-41f1-952a-73da3cca690e",
   "metadata": {},
   "outputs": [
    {
     "name": "stdout",
     "output_type": "stream",
     "text": [
      "Number of files in the directory: 4253\n"
     ]
    }
   ],
   "source": [
    "import os\n",
    "\n",
    "directory = \"../../data/Images\"  # Replace with the actual directory path\n",
    "\n",
    "# List all items (files and subdirectories) in the directory\n",
    "items = os.listdir(directory)\n",
    "\n",
    "# Filter out only the files from the list of items\n",
    "files = [item for item in items if os.path.isfile(os.path.join(directory, item))]\n",
    "\n",
    "num_files = len(files)\n",
    "print(\"Number of files in the directory:\", num_files)\n"
   ]
  },
  {
   "cell_type": "code",
   "execution_count": null,
   "id": "34436967-8201-457f-9be3-d226b8637d6f",
   "metadata": {},
   "outputs": [
    {
     "name": "stdout",
     "output_type": "stream",
     "text": [
      " Inference.ipynb\t    main\t\t\t    real-time.ipynb\n",
      " augment.ipynb\t\t    main.py\t\t\t   'resnet (1).py'\n",
      " dev_18.90_PHOENIX14-T.pt   main_copy.py\t\t    resnet.py\n",
      " hands-on-session-2\t    out.output-hypothesis-dev.ctm   session.zip\n",
      " histocartography\t    output_video-1.mp4\n",
      " histocartography.zip\t    output_video.mp4\n"
     ]
    }
   ],
   "source": [
    "!ls ../"
   ]
  },
  {
   "cell_type": "code",
   "execution_count": null,
   "id": "6b21b343-51c4-4266-9ff8-a271e9adde93",
   "metadata": {},
   "outputs": [
    {
     "ename": "",
     "evalue": "",
     "output_type": "error",
     "traceback": [
      "\u001b[1;31mRunning cells with '/usr/bin/python3' requires the ipykernel package.\n",
      "\u001b[1;31mRun the following command to install 'ipykernel' into the Python environment. \n",
      "\u001b[1;31mCommand: '/usr/bin/python3 -m pip install ipykernel -U --user --force-reinstall'"
     ]
    }
   ],
   "source": [
    "# import sys\n",
    "# import sys\n",
    "# sys.path.append('../histocartography/histocartography')  # Add the parent_folder to the Python path\n",
    "# from preprocessing import (\n",
    "#     VahadaneStainNormalizer,         # stain normalizer\n",
    "#     NucleiExtractor,                 # nuclei detector \n",
    "#     DeepFeatureExtractor,            # feature extractor \n",
    "#     KNNGraphBuilder,                 # kNN graph builder\n",
    "#     ColorMergedSuperpixelExtractor,  # tissue detector\n",
    "#     DeepFeatureExtractor,            # feature extractor\n",
    "#     RAGGraphBuilder,                 # build graph\n",
    "#     AssignmnentMatrixBuilder         # assignment matrix \n",
    "# )"
   ]
  },
  {
   "cell_type": "code",
   "execution_count": null,
   "id": "b4e03454-428a-4957-bb5f-a6758ad9f233",
   "metadata": {},
   "outputs": [
    {
     "ename": "",
     "evalue": "",
     "output_type": "error",
     "traceback": [
      "\u001b[1;31mRunning cells with '/usr/bin/python3' requires the ipykernel package.\n",
      "\u001b[1;31mRun the following command to install 'ipykernel' into the Python environment. \n",
      "\u001b[1;31mCommand: '/usr/bin/python3 -m pip install ipykernel -U --user --force-reinstall'"
     ]
    }
   ],
   "source": [
    "import os\n",
    "store_path = \"graph\"\n",
    "split = \"test\"\n",
    "image_name = \"1_00061_sub0_007\"\n",
    "cg_out = os.path.join(store_path, 'cell_graphs', split, image_name.replace('.png', '.bin'))\n",
    "tg_out = os.path.join(store_path, 'tissue_graphs', split, image_name.replace('.png', '.bin'))\n",
    "assign_out = os.path.join(store_path, 'assignment_matrices', split, image_name.replace('.png', '.h5'))"
   ]
  },
  {
   "cell_type": "code",
   "execution_count": null,
   "id": "6570f8a3",
   "metadata": {},
   "outputs": [],
   "source": [
    "print(cg_ou)"
   ]
  },
  {
   "cell_type": "markdown",
   "id": "ef141498",
   "metadata": {},
   "source": [
    "## Read an exmaple graph to have a look"
   ]
  },
  {
   "cell_type": "code",
   "execution_count": 20,
   "id": "3a2df83a",
   "metadata": {},
   "outputs": [
    {
     "name": "stdout",
     "output_type": "stream",
     "text": [
      "1_00061_sub0_002.h5 1_00061_sub0_004.h5\n"
     ]
    }
   ],
   "source": [
    "!ls graph/assignment_mat/test"
   ]
  },
  {
   "cell_type": "code",
   "execution_count": 93,
   "id": "0b5b3ba1",
   "metadata": {},
   "outputs": [
    {
     "name": "stdout",
     "output_type": "stream",
     "text": [
      "dict_keys(['feat', 'centroid'])\n"
     ]
    }
   ],
   "source": [
    "cell_path = \"graph/cell_graphs/test/1_00061_sub0_002.bin\"\n",
    "tissue_path = \"graph/tissue_graphs/test/1_00061_sub0_002.bin\"\n",
    "assignment_path = \"graph/assignment_mat/test/1_00061_sub0_002.h5\"\n",
    "ass_two = \"graph/assignment_mat/test/1_00061_sub0_004.h5\"\n",
    "assignment_paths  = [\"graph/assignment_mat/test/1_00061_sub0_002.h5\",\"graph/assignment_mat/test/1_00061_sub0_004.h5\"]\n",
    "loaded_graphs = dgl.load_graphs(cell_path)\n",
    "print(loaded_graphs[0][0].ndata.keys())\n",
    "cg_feat = loaded_graphs[0][0].ndata['feat']\n",
    "cg_centroid = loaded_graphs[0][0].ndata['centroid']\n"
   ]
  },
  {
   "cell_type": "code",
   "execution_count": 94,
   "id": "11a32716",
   "metadata": {},
   "outputs": [
    {
     "name": "stdout",
     "output_type": "stream",
     "text": [
      "dict_keys(['feat', 'centroid'])\n"
     ]
    }
   ],
   "source": [
    "loaded_graphs = dgl.load_graphs(tissue_path)\n",
    "print(loaded_graphs[0][0].ndata.keys())\n",
    "tg_feat = loaded_graphs[0][0].ndata['feat']\n",
    "tg_centroid = loaded_graphs[0][0].ndata['centroid']"
   ]
  },
  {
   "cell_type": "code",
   "execution_count": 95,
   "id": "87a8165c",
   "metadata": {},
   "outputs": [
    {
     "name": "stdout",
     "output_type": "stream",
     "text": [
      "<KeysViewHDF5 ['assignment_matrix']>\n",
      "(387, 9)\n",
      "<HDF5 dataset \"assignment_matrix\": shape (387, 9), type \"<f8\">\n",
      "(387,)\n",
      "Value 0: Count 1\n",
      "Value 1: Count 60\n",
      "Value 2: Count 32\n",
      "Value 3: Count 1\n",
      "Value 4: Count 43\n",
      "Value 5: Count 53\n",
      "Value 6: Count 189\n",
      "Value 7: Count 6\n",
      "Value 8: Count 2\n"
     ]
    }
   ],
   "source": [
    "import h5py\n",
    "    # Assuming the assignment matrix is stored in a dataset named \"assignment\"\n",
    "with h5py.File(assignment_path, \"r\") as f:\n",
    "    print(f.keys())\n",
    "    print(f[\"assignment_matrix\"].shape)\n",
    "    ass_mat = f[\"assignment_matrix\"]\n",
    "    print(ass_mat)\n",
    "\n",
    "    # Find the column number with value 1 in each row\n",
    "    column_numbers = np.argmax(ass_mat, axis=1)\n",
    "\n",
    "    # Print the column numbers\n",
    "    # print(column_numbers)\n",
    "    print(column_numbers.shape)\n",
    "\n",
    "    value_counts = np.bincount(column_numbers, minlength=5)\n",
    "\n",
    "    # Print the count for each value\n",
    "    for value, count in enumerate(value_counts):\n",
    "        print(f\"Value {value}: Count {count}\")\n"
   ]
  },
  {
   "cell_type": "code",
   "execution_count": 96,
   "id": "fc5cbfe5",
   "metadata": {},
   "outputs": [
    {
     "name": "stdout",
     "output_type": "stream",
     "text": [
      "2\n",
      "graph/assignment_mat/test/1_00061_sub0_002.h5\n",
      "FDSFS\n",
      "Individual shape (387, 9)\n",
      "graph/assignment_mat/test/1_00061_sub0_004.h5\n",
      "FDSFS\n",
      "Individual shape (290, 5)\n"
     ]
    },
    {
     "ename": "ValueError",
     "evalue": "all input arrays must have the same shape",
     "output_type": "error",
     "traceback": [
      "\u001b[0;31m---------------------------------------------------------------------------\u001b[0m",
      "\u001b[0;31mValueError\u001b[0m                                Traceback (most recent call last)",
      "Cell \u001b[0;32mIn[96], line 19\u001b[0m\n\u001b[1;32m     17\u001b[0m     \u001b[39mprint\u001b[39m(\u001b[39mf\u001b[39m\u001b[39m\"\u001b[39m\u001b[39mIndividual shape \u001b[39m\u001b[39m{\u001b[39;00massignment_matrix\u001b[39m.\u001b[39mshape\u001b[39m}\u001b[39;00m\u001b[39m\"\u001b[39m)\n\u001b[1;32m     18\u001b[0m     assignment_matrices\u001b[39m.\u001b[39mappend(assignment_matrix)\n\u001b[0;32m---> 19\u001b[0m assignment_tensor \u001b[39m=\u001b[39m np\u001b[39m.\u001b[39;49mstack(assignment_matrices, axis\u001b[39m=\u001b[39;49m\u001b[39m0\u001b[39;49m)\n\u001b[1;32m     20\u001b[0m \u001b[39mprint\u001b[39m(assignment_tensor\u001b[39m.\u001b[39mshape)\n\u001b[1;32m     21\u001b[0m \u001b[39m# Find the column number with value 2 in each row\u001b[39;00m\n",
      "File \u001b[0;32m<__array_function__ internals>:200\u001b[0m, in \u001b[0;36mstack\u001b[0;34m(*args, **kwargs)\u001b[0m\n",
      "File \u001b[0;32m~/Library/Python/3.8/lib/python/site-packages/numpy/core/shape_base.py:464\u001b[0m, in \u001b[0;36mstack\u001b[0;34m(arrays, axis, out, dtype, casting)\u001b[0m\n\u001b[1;32m    462\u001b[0m shapes \u001b[39m=\u001b[39m {arr\u001b[39m.\u001b[39mshape \u001b[39mfor\u001b[39;00m arr \u001b[39min\u001b[39;00m arrays}\n\u001b[1;32m    463\u001b[0m \u001b[39mif\u001b[39;00m \u001b[39mlen\u001b[39m(shapes) \u001b[39m!=\u001b[39m \u001b[39m1\u001b[39m:\n\u001b[0;32m--> 464\u001b[0m     \u001b[39mraise\u001b[39;00m \u001b[39mValueError\u001b[39;00m(\u001b[39m'\u001b[39m\u001b[39mall input arrays must have the same shape\u001b[39m\u001b[39m'\u001b[39m)\n\u001b[1;32m    466\u001b[0m result_ndim \u001b[39m=\u001b[39m arrays[\u001b[39m0\u001b[39m]\u001b[39m.\u001b[39mndim \u001b[39m+\u001b[39m \u001b[39m1\u001b[39m\n\u001b[1;32m    467\u001b[0m axis \u001b[39m=\u001b[39m normalize_axis_index(axis, result_ndim)\n",
      "\u001b[0;31mValueError\u001b[0m: all input arrays must have the same shape"
     ]
    }
   ],
   "source": [
    "# List of HDF5 file paths\n",
    "# assignment_paths = [\n",
    "#     \"graph/assignment_mat/test/1_00061_sub0_004.h5\",\n",
    "#     \"path_to_another_file.h5\",  # Add more file paths as needed\n",
    "# ]\n",
    "assignment_paths  = [assignment_path,\"graph/assignment_mat/test/1_00061_sub0_004.h5\"]\n",
    "print(len(assignment_paths))\n",
    "assignment_matrices = []\n",
    "for assignment_path in assignment_paths:\n",
    "    # Open the HDF5 file for reading\n",
    "    print(assignment_path)\n",
    "    with h5py.File(assignment_path, \"r\") as file:\n",
    "        print(\"FDSFS\")\n",
    "        # Assuming the assignment matrix is stored in a dataset named \"assignment_matrix\"\n",
    "        assignment_matrix = file[\"assignment_matrix\"][:]\n",
    "        \n",
    "    print(f\"Individual shape {assignment_matrix.shape}\")\n",
    "    assignment_matrices.append(assignment_matrix)\n",
    "assignment_tensor = np.stack(assignment_matrices, axis=0)\n",
    "print(assignment_tensor.shape)\n",
    "# Find the column number with value 2 in each row\n",
    "column_numbers = np.argmax(assignment_tensor, axis=2)\n",
    "\n",
    "# Print the column_numbers shape\n",
    "print(f\"Shape of column_numbers {column_numbers.shape}\")\n",
    "# for i in range(column_numbers.shape[0]):\n",
    "#     print(i.shape)\n",
    "# print(column_numbers[1])"
   ]
  },
  {
   "cell_type": "code",
   "execution_count": 102,
   "id": "a399fafc",
   "metadata": {},
   "outputs": [
    {
     "name": "stdout",
     "output_type": "stream",
     "text": [
      "Summary:\n",
      "Cell graph have feature size torch.Size([387, 514]) and centroid size torch.Size([387, 2])\n",
      "Tissue graph have feature size torch.Size([9, 514]) and centroid size torch.Size([9, 2])\n",
      "Assignment matrix size (387, 9)\n",
      "Column vector shape (387,)\n",
      "<class 'numpy.ndarray'>\n"
     ]
    }
   ],
   "source": [
    "print(\"Summary:\")\n",
    "print(f\"Cell graph have feature size {cg_feat.size()} and centroid size {cg_centroid.size()}\")\n",
    "print(f\"Tissue graph have feature size {tg_feat.size()} and centroid size {tg_centroid.size()}\")\n",
    "print(f\"Assignment matrix size {ass_mat.shape}\")\n",
    "print(f\"Column vector shape { column_numbers.shape}\")\n",
    "print(type(column_numbers))"
   ]
  },
  {
   "cell_type": "code",
   "execution_count": 104,
   "id": "7af8bf0d",
   "metadata": {},
   "outputs": [
    {
     "name": "stdout",
     "output_type": "stream",
     "text": [
      "torch.Size([387])\n"
     ]
    }
   ],
   "source": [
    "values = torch.from_numpy(column_numbers)\n",
    "print(values.shape)"
   ]
  },
  {
   "cell_type": "code",
   "execution_count": 110,
   "id": "75917359",
   "metadata": {},
   "outputs": [
    {
     "name": "stdout",
     "output_type": "stream",
     "text": [
      "torch.Size([9, 514])\n"
     ]
    }
   ],
   "source": [
    "summed_features = torch.zeros(tg_feat.shape)  # Assuming there are 10 classes\n",
    "print(summed_features.shape)\n",
    "# Use torch.scatter_add to accumulate features based on class labels\n",
    "summed_features = torch.scatter_add(summed_features, dim=0, index=torch.from_numpy(column_numbers).unsqueeze(1), src=cg_feat)\n"
   ]
  },
  {
   "cell_type": "code",
   "execution_count": 116,
   "id": "8c972ea6",
   "metadata": {},
   "outputs": [],
   "source": [
    "# !pip3 install pyyaml"
   ]
  },
  {
   "cell_type": "code",
   "execution_count": 120,
   "id": "d71a8f20",
   "metadata": {},
   "outputs": [
    {
     "name": "stdout",
     "output_type": "stream",
     "text": [
      "{'cell_layers': 2, 'tissue_layers': 2, 'cell_conv_method': 'GIN'}\n"
     ]
    }
   ],
   "source": [
    "path = \"config/config.yaml\"\n",
    "import yaml\n",
    "with open(path, 'r') as file:\n",
    "    configs = yaml.safe_load(file)\n",
    "print(configs[\"gnn_param\"])"
   ]
  },
  {
   "cell_type": "code",
   "execution_count": 125,
   "id": "2e389833",
   "metadata": {},
   "outputs": [
    {
     "name": "stdout",
     "output_type": "stream",
     "text": [
      "../../Report-nmi-wsi/Images/test\n",
      "0\n"
     ]
    }
   ],
   "source": [
    "from glob import glob\n",
    "base_data_path = \"../../Report-nmi-wsi\"\n",
    "split = \"test\"\n",
    "img_path = os.path.join(base_data_path,\"Images\", split)\n",
    "print(img_path)\n",
    "list_name = glob(img_path+\"/*.png\")\n",
    "print(len(list_name))\n",
    "image_names = [os.path.splitext(os.path.split(i)[-1])[0]  for i in list_name]"
   ]
  },
  {
   "cell_type": "code",
   "execution_count": 124,
   "id": "b6e3e484",
   "metadata": {},
   "outputs": [
    {
     "name": "stdout",
     "output_type": "stream",
     "text": [
      "\u001b[31m115831_000.png\u001b[m\u001b[m       \u001b[31m116814_008.png\u001b[m\u001b[m       \u001b[31m118398_000.png\u001b[m\u001b[m\n",
      "\u001b[31m115831_001.png\u001b[m\u001b[m       \u001b[31m116814_011.png\u001b[m\u001b[m       \u001b[31m118398_001.png\u001b[m\u001b[m\n",
      "\u001b[31m115831_006.png\u001b[m\u001b[m       \u001b[31m116814_013.png\u001b[m\u001b[m       \u001b[31m118398_002.png\u001b[m\u001b[m\n",
      "\u001b[31m115831_007.png\u001b[m\u001b[m       \u001b[31m116814_014.png\u001b[m\u001b[m       \u001b[31m118398_005.png\u001b[m\u001b[m\n",
      "\u001b[31m115831_012.png\u001b[m\u001b[m       \u001b[31m116840_000.png\u001b[m\u001b[m       \u001b[31m118398_006.png\u001b[m\u001b[m\n",
      "\u001b[31m115831_013.png\u001b[m\u001b[m       \u001b[31m116840_001.png\u001b[m\u001b[m       \u001b[31m118398_008.png\u001b[m\u001b[m\n",
      "\u001b[31m115832_000.png\u001b[m\u001b[m       \u001b[31m116840_002.png\u001b[m\u001b[m       \u001b[31m118398_009.png\u001b[m\u001b[m\n",
      "\u001b[31m115832_003.png\u001b[m\u001b[m       \u001b[31m116840_004.png\u001b[m\u001b[m       \u001b[31m118398_010.png\u001b[m\u001b[m\n",
      "\u001b[31m115832_005.png\u001b[m\u001b[m       \u001b[31m116840_005.png\u001b[m\u001b[m       \u001b[31m118398_012.png\u001b[m\u001b[m\n",
      "\u001b[31m115832_006.png\u001b[m\u001b[m       \u001b[31m116840_007.png\u001b[m\u001b[m       \u001b[31m118398_013.png\u001b[m\u001b[m\n",
      "\u001b[31m115832_008.png\u001b[m\u001b[m       \u001b[31m116840_009.png\u001b[m\u001b[m       \u001b[31m118398_014.png\u001b[m\u001b[m\n",
      "\u001b[31m115832_009.png\u001b[m\u001b[m       \u001b[31m116840_011.png\u001b[m\u001b[m       \u001b[31m118402_001.png\u001b[m\u001b[m\n",
      "\u001b[31m115832_011.png\u001b[m\u001b[m       \u001b[31m116840_012.png\u001b[m\u001b[m       \u001b[31m118402_004.png\u001b[m\u001b[m\n",
      "\u001b[31m115832_013.png\u001b[m\u001b[m       \u001b[31m116840_013.png\u001b[m\u001b[m       \u001b[31m118402_006.png\u001b[m\u001b[m\n",
      "\u001b[31m115832_014.png\u001b[m\u001b[m       \u001b[31m116841_003.png\u001b[m\u001b[m       \u001b[31m118402_007.png\u001b[m\u001b[m\n",
      "\u001b[31m115834_000.png\u001b[m\u001b[m       \u001b[31m116841_006.png\u001b[m\u001b[m       \u001b[31m118402_008.png\u001b[m\u001b[m\n",
      "\u001b[31m115834_002.png\u001b[m\u001b[m       \u001b[31m116841_011.png\u001b[m\u001b[m       \u001b[31m118402_009.png\u001b[m\u001b[m\n",
      "\u001b[31m115834_004.png\u001b[m\u001b[m       \u001b[31m116841_013.png\u001b[m\u001b[m       \u001b[31m118403_000.png\u001b[m\u001b[m\n",
      "\u001b[31m115834_006.png\u001b[m\u001b[m       \u001b[31m116842_000.png\u001b[m\u001b[m       \u001b[31m118403_005.png\u001b[m\u001b[m\n",
      "\u001b[31m115834_009.png\u001b[m\u001b[m       \u001b[31m116842_001.png\u001b[m\u001b[m       \u001b[31m118403_006.png\u001b[m\u001b[m\n",
      "\u001b[31m115834_010.png\u001b[m\u001b[m       \u001b[31m116842_004.png\u001b[m\u001b[m       \u001b[31m118403_008.png\u001b[m\u001b[m\n",
      "\u001b[31m115834_012.png\u001b[m\u001b[m       \u001b[31m116842_007.png\u001b[m\u001b[m       \u001b[31m118403_010.png\u001b[m\u001b[m\n",
      "\u001b[31m115834_013.png\u001b[m\u001b[m       \u001b[31m116842_011.png\u001b[m\u001b[m       \u001b[31m118403_011.png\u001b[m\u001b[m\n",
      "\u001b[31m115835_002.png\u001b[m\u001b[m       \u001b[31m116842_012.png\u001b[m\u001b[m       \u001b[31m118403_012.png\u001b[m\u001b[m\n",
      "\u001b[31m115835_003.png\u001b[m\u001b[m       \u001b[31m116842_013.png\u001b[m\u001b[m       \u001b[31m118404_000.png\u001b[m\u001b[m\n",
      "\u001b[31m115835_004.png\u001b[m\u001b[m       \u001b[31m116844_000.png\u001b[m\u001b[m       \u001b[31m118404_004.png\u001b[m\u001b[m\n",
      "\u001b[31m115835_009.png\u001b[m\u001b[m       \u001b[31m116844_001.png\u001b[m\u001b[m       \u001b[31m118404_005.png\u001b[m\u001b[m\n",
      "\u001b[31m115835_010.png\u001b[m\u001b[m       \u001b[31m116844_004.png\u001b[m\u001b[m       \u001b[31m118404_006.png\u001b[m\u001b[m\n",
      "\u001b[31m115835_011.png\u001b[m\u001b[m       \u001b[31m116844_006.png\u001b[m\u001b[m       \u001b[31m118404_009.png\u001b[m\u001b[m\n",
      "\u001b[31m115835_012.png\u001b[m\u001b[m       \u001b[31m116844_008.png\u001b[m\u001b[m       \u001b[31m118404_011.png\u001b[m\u001b[m\n",
      "\u001b[31m115835_013.png\u001b[m\u001b[m       \u001b[31m116844_009.png\u001b[m\u001b[m       \u001b[31m118404_012.png\u001b[m\u001b[m\n",
      "\u001b[31m115836_001.png\u001b[m\u001b[m       \u001b[31m116844_010.png\u001b[m\u001b[m       \u001b[31m118404_013.png\u001b[m\u001b[m\n",
      "\u001b[31m115836_003.png\u001b[m\u001b[m       \u001b[31m116846_002.png\u001b[m\u001b[m       \u001b[31m118417_000.png\u001b[m\u001b[m\n",
      "\u001b[31m115836_005.png\u001b[m\u001b[m       \u001b[31m116846_003.png\u001b[m\u001b[m       \u001b[31m118417_002.png\u001b[m\u001b[m\n",
      "\u001b[31m115836_006.png\u001b[m\u001b[m       \u001b[31m116846_004.png\u001b[m\u001b[m       \u001b[31m118417_003.png\u001b[m\u001b[m\n",
      "\u001b[31m115836_007.png\u001b[m\u001b[m       \u001b[31m116846_005.png\u001b[m\u001b[m       \u001b[31m118417_004.png\u001b[m\u001b[m\n",
      "\u001b[31m115836_008.png\u001b[m\u001b[m       \u001b[31m116846_010.png\u001b[m\u001b[m       \u001b[31m118417_006.png\u001b[m\u001b[m\n",
      "\u001b[31m115836_009.png\u001b[m\u001b[m       \u001b[31m116846_011.png\u001b[m\u001b[m       \u001b[31m118417_007.png\u001b[m\u001b[m\n",
      "\u001b[31m115836_010.png\u001b[m\u001b[m       \u001b[31m116846_012.png\u001b[m\u001b[m       \u001b[31m118417_008.png\u001b[m\u001b[m\n",
      "\u001b[31m115836_012.png\u001b[m\u001b[m       \u001b[31m116846_013.png\u001b[m\u001b[m       \u001b[31m118417_009.png\u001b[m\u001b[m\n",
      "\u001b[31m115836_013.png\u001b[m\u001b[m       \u001b[31m116846_014.png\u001b[m\u001b[m       \u001b[31m118417_011.png\u001b[m\u001b[m\n",
      "\u001b[31m115836_014.png\u001b[m\u001b[m       \u001b[31m116853_000.png\u001b[m\u001b[m       \u001b[31m118417_014.png\u001b[m\u001b[m\n",
      "\u001b[31m115838_001.png\u001b[m\u001b[m       \u001b[31m116853_001.png\u001b[m\u001b[m       \u001b[31m118421_000.png\u001b[m\u001b[m\n",
      "\u001b[31m115838_002.png\u001b[m\u001b[m       \u001b[31m116853_003.png\u001b[m\u001b[m       \u001b[31m118421_002.png\u001b[m\u001b[m\n",
      "\u001b[31m115838_004.png\u001b[m\u001b[m       \u001b[31m116853_004.png\u001b[m\u001b[m       \u001b[31m118421_003.png\u001b[m\u001b[m\n",
      "\u001b[31m115838_006.png\u001b[m\u001b[m       \u001b[31m116853_005.png\u001b[m\u001b[m       \u001b[31m118421_004.png\u001b[m\u001b[m\n",
      "\u001b[31m115838_007.png\u001b[m\u001b[m       \u001b[31m116853_006.png\u001b[m\u001b[m       \u001b[31m118421_006.png\u001b[m\u001b[m\n",
      "\u001b[31m115838_008.png\u001b[m\u001b[m       \u001b[31m116853_011.png\u001b[m\u001b[m       \u001b[31m118421_012.png\u001b[m\u001b[m\n",
      "\u001b[31m115838_009.png\u001b[m\u001b[m       \u001b[31m116853_012.png\u001b[m\u001b[m       \u001b[31m118426_000.png\u001b[m\u001b[m\n",
      "\u001b[31m115838_010.png\u001b[m\u001b[m       \u001b[31m116853_013.png\u001b[m\u001b[m       \u001b[31m118426_003.png\u001b[m\u001b[m\n",
      "\u001b[31m115838_011.png\u001b[m\u001b[m       \u001b[31m116853_014.png\u001b[m\u001b[m       \u001b[31m118426_004.png\u001b[m\u001b[m\n",
      "\u001b[31m115838_012.png\u001b[m\u001b[m       \u001b[31m116855_000.png\u001b[m\u001b[m       \u001b[31m118426_005.png\u001b[m\u001b[m\n",
      "\u001b[31m115838_013.png\u001b[m\u001b[m       \u001b[31m116855_001.png\u001b[m\u001b[m       \u001b[31m118426_007.png\u001b[m\u001b[m\n",
      "\u001b[31m115838_014.png\u001b[m\u001b[m       \u001b[31m116855_002.png\u001b[m\u001b[m       \u001b[31m118426_008.png\u001b[m\u001b[m\n",
      "\u001b[31m115840_000.png\u001b[m\u001b[m       \u001b[31m116855_003.png\u001b[m\u001b[m       \u001b[31m118426_010.png\u001b[m\u001b[m\n",
      "\u001b[31m115840_001.png\u001b[m\u001b[m       \u001b[31m116855_004.png\u001b[m\u001b[m       \u001b[31m118426_011.png\u001b[m\u001b[m\n",
      "\u001b[31m115840_003.png\u001b[m\u001b[m       \u001b[31m116855_005.png\u001b[m\u001b[m       \u001b[31m118426_014.png\u001b[m\u001b[m\n",
      "\u001b[31m115840_004.png\u001b[m\u001b[m       \u001b[31m116855_008.png\u001b[m\u001b[m       \u001b[31m118430_002.png\u001b[m\u001b[m\n",
      "\u001b[31m115840_005.png\u001b[m\u001b[m       \u001b[31m116855_009.png\u001b[m\u001b[m       \u001b[31m118430_003.png\u001b[m\u001b[m\n",
      "\u001b[31m115840_006.png\u001b[m\u001b[m       \u001b[31m116855_013.png\u001b[m\u001b[m       \u001b[31m118430_005.png\u001b[m\u001b[m\n",
      "\u001b[31m115840_007.png\u001b[m\u001b[m       \u001b[31m116910_002.png\u001b[m\u001b[m       \u001b[31m118430_008.png\u001b[m\u001b[m\n",
      "\u001b[31m115840_008.png\u001b[m\u001b[m       \u001b[31m116910_005.png\u001b[m\u001b[m       \u001b[31m118430_010.png\u001b[m\u001b[m\n",
      "\u001b[31m115840_011.png\u001b[m\u001b[m       \u001b[31m116910_008.png\u001b[m\u001b[m       \u001b[31m118430_011.png\u001b[m\u001b[m\n",
      "\u001b[31m115840_012.png\u001b[m\u001b[m       \u001b[31m116910_009.png\u001b[m\u001b[m       \u001b[31m118430_012.png\u001b[m\u001b[m\n",
      "\u001b[31m115840_013.png\u001b[m\u001b[m       \u001b[31m116910_013.png\u001b[m\u001b[m       \u001b[31m118430_014.png\u001b[m\u001b[m\n",
      "\u001b[31m115840_014.png\u001b[m\u001b[m       \u001b[31m116910_014.png\u001b[m\u001b[m       \u001b[31m118432_002.png\u001b[m\u001b[m\n",
      "\u001b[31m115846_001.png\u001b[m\u001b[m       \u001b[31m116916_000.png\u001b[m\u001b[m       \u001b[31m118432_003.png\u001b[m\u001b[m\n",
      "\u001b[31m115846_002.png\u001b[m\u001b[m       \u001b[31m116916_001.png\u001b[m\u001b[m       \u001b[31m118432_004.png\u001b[m\u001b[m\n",
      "\u001b[31m115846_003.png\u001b[m\u001b[m       \u001b[31m116916_002.png\u001b[m\u001b[m       \u001b[31m118432_006.png\u001b[m\u001b[m\n",
      "\u001b[31m115846_004.png\u001b[m\u001b[m       \u001b[31m116916_003.png\u001b[m\u001b[m       \u001b[31m118432_008.png\u001b[m\u001b[m\n",
      "\u001b[31m115846_005.png\u001b[m\u001b[m       \u001b[31m116916_004.png\u001b[m\u001b[m       \u001b[31m118432_010.png\u001b[m\u001b[m\n",
      "\u001b[31m115846_006.png\u001b[m\u001b[m       \u001b[31m116916_009.png\u001b[m\u001b[m       \u001b[31m118432_011.png\u001b[m\u001b[m\n",
      "\u001b[31m115846_009.png\u001b[m\u001b[m       \u001b[31m116916_011.png\u001b[m\u001b[m       \u001b[31m118432_012.png\u001b[m\u001b[m\n",
      "\u001b[31m115846_012.png\u001b[m\u001b[m       \u001b[31m116916_012.png\u001b[m\u001b[m       \u001b[31m118432_013.png\u001b[m\u001b[m\n",
      "\u001b[31m115850_000.png\u001b[m\u001b[m       \u001b[31m116916_013.png\u001b[m\u001b[m       \u001b[31m118432_014.png\u001b[m\u001b[m\n",
      "\u001b[31m115850_001.png\u001b[m\u001b[m       \u001b[31m116916_014.png\u001b[m\u001b[m       \u001b[31m118443_002.png\u001b[m\u001b[m\n",
      "\u001b[31m115850_005.png\u001b[m\u001b[m       \u001b[31m116924_002.png\u001b[m\u001b[m       \u001b[31m118443_005.png\u001b[m\u001b[m\n",
      "\u001b[31m115850_006.png\u001b[m\u001b[m       \u001b[31m116924_003.png\u001b[m\u001b[m       \u001b[31m118443_009.png\u001b[m\u001b[m\n",
      "\u001b[31m115850_007.png\u001b[m\u001b[m       \u001b[31m116924_004.png\u001b[m\u001b[m       \u001b[31m118443_010.png\u001b[m\u001b[m\n",
      "\u001b[31m115850_008.png\u001b[m\u001b[m       \u001b[31m116924_005.png\u001b[m\u001b[m       \u001b[31m118443_011.png\u001b[m\u001b[m\n",
      "\u001b[31m115850_009.png\u001b[m\u001b[m       \u001b[31m116924_006.png\u001b[m\u001b[m       \u001b[31m118443_012.png\u001b[m\u001b[m\n",
      "\u001b[31m115850_014.png\u001b[m\u001b[m       \u001b[31m116924_007.png\u001b[m\u001b[m       \u001b[31m118443_014.png\u001b[m\u001b[m\n",
      "\u001b[31m115852_006.png\u001b[m\u001b[m       \u001b[31m116924_008.png\u001b[m\u001b[m       \u001b[31m118465_000.png\u001b[m\u001b[m\n",
      "\u001b[31m115852_008.png\u001b[m\u001b[m       \u001b[31m116924_010.png\u001b[m\u001b[m       \u001b[31m118465_003.png\u001b[m\u001b[m\n",
      "\u001b[31m115852_009.png\u001b[m\u001b[m       \u001b[31m116924_011.png\u001b[m\u001b[m       \u001b[31m118465_006.png\u001b[m\u001b[m\n",
      "\u001b[31m115852_012.png\u001b[m\u001b[m       \u001b[31m116924_013.png\u001b[m\u001b[m       \u001b[31m118465_007.png\u001b[m\u001b[m\n",
      "\u001b[31m115853_003.png\u001b[m\u001b[m       \u001b[31m116924_014.png\u001b[m\u001b[m       \u001b[31m118465_009.png\u001b[m\u001b[m\n",
      "\u001b[31m115853_006.png\u001b[m\u001b[m       \u001b[31m116925_000.png\u001b[m\u001b[m       \u001b[31m118465_010.png\u001b[m\u001b[m\n",
      "\u001b[31m115853_007.png\u001b[m\u001b[m       \u001b[31m116925_001.png\u001b[m\u001b[m       \u001b[31m118465_012.png\u001b[m\u001b[m\n",
      "\u001b[31m115853_008.png\u001b[m\u001b[m       \u001b[31m116925_002.png\u001b[m\u001b[m       \u001b[31m118465_013.png\u001b[m\u001b[m\n",
      "\u001b[31m115853_009.png\u001b[m\u001b[m       \u001b[31m116925_005.png\u001b[m\u001b[m       \u001b[31m118633_000.png\u001b[m\u001b[m\n",
      "\u001b[31m115856_000.png\u001b[m\u001b[m       \u001b[31m116925_007.png\u001b[m\u001b[m       \u001b[31m118633_001.png\u001b[m\u001b[m\n",
      "\u001b[31m115856_001.png\u001b[m\u001b[m       \u001b[31m116925_008.png\u001b[m\u001b[m       \u001b[31m118633_002.png\u001b[m\u001b[m\n",
      "\u001b[31m115856_003.png\u001b[m\u001b[m       \u001b[31m116925_013.png\u001b[m\u001b[m       \u001b[31m118633_003.png\u001b[m\u001b[m\n",
      "\u001b[31m115856_004.png\u001b[m\u001b[m       \u001b[31m116925_014.png\u001b[m\u001b[m       \u001b[31m118633_005.png\u001b[m\u001b[m\n",
      "\u001b[31m115856_006.png\u001b[m\u001b[m       \u001b[31m116933_001.png\u001b[m\u001b[m       \u001b[31m118633_006.png\u001b[m\u001b[m\n",
      "\u001b[31m115856_007.png\u001b[m\u001b[m       \u001b[31m116933_004.png\u001b[m\u001b[m       \u001b[31m118633_008.png\u001b[m\u001b[m\n",
      "\u001b[31m115856_010.png\u001b[m\u001b[m       \u001b[31m116933_012.png\u001b[m\u001b[m       \u001b[31m118633_014.png\u001b[m\u001b[m\n",
      "\u001b[31m115856_013.png\u001b[m\u001b[m       \u001b[31m116933_014.png\u001b[m\u001b[m       \u001b[31m1_00062_sub0_000.png\u001b[m\u001b[m\n",
      "\u001b[31m115867_000.png\u001b[m\u001b[m       \u001b[31m116953_001.png\u001b[m\u001b[m       \u001b[31m1_00062_sub0_007.png\u001b[m\u001b[m\n",
      "\u001b[31m115867_009.png\u001b[m\u001b[m       \u001b[31m116953_002.png\u001b[m\u001b[m       \u001b[31m1_00062_sub0_013.png\u001b[m\u001b[m\n",
      "\u001b[31m115867_010.png\u001b[m\u001b[m       \u001b[31m116953_004.png\u001b[m\u001b[m       \u001b[31m1_00062_sub0_019.png\u001b[m\u001b[m\n",
      "\u001b[31m115867_011.png\u001b[m\u001b[m       \u001b[31m116953_006.png\u001b[m\u001b[m       \u001b[31m1_00062_sub0_021.png\u001b[m\u001b[m\n",
      "\u001b[31m115867_013.png\u001b[m\u001b[m       \u001b[31m116953_007.png\u001b[m\u001b[m       \u001b[31m1_00062_sub0_024.png\u001b[m\u001b[m\n",
      "\u001b[31m115868_000.png\u001b[m\u001b[m       \u001b[31m116953_008.png\u001b[m\u001b[m       \u001b[31m1_00062_sub0_025.png\u001b[m\u001b[m\n",
      "\u001b[31m115868_001.png\u001b[m\u001b[m       \u001b[31m116953_010.png\u001b[m\u001b[m       \u001b[31m1_00062_sub0_027.png\u001b[m\u001b[m\n",
      "\u001b[31m115868_002.png\u001b[m\u001b[m       \u001b[31m116953_012.png\u001b[m\u001b[m       \u001b[31m1_00062_sub0_029.png\u001b[m\u001b[m\n",
      "\u001b[31m115868_003.png\u001b[m\u001b[m       \u001b[31m116953_014.png\u001b[m\u001b[m       \u001b[31m1_00062_sub0_030.png\u001b[m\u001b[m\n",
      "\u001b[31m115868_006.png\u001b[m\u001b[m       \u001b[31m116966_000.png\u001b[m\u001b[m       \u001b[31m1_00062_sub0_032.png\u001b[m\u001b[m\n",
      "\u001b[31m115868_008.png\u001b[m\u001b[m       \u001b[31m116966_001.png\u001b[m\u001b[m       \u001b[31m1_00062_sub0_037.png\u001b[m\u001b[m\n",
      "\u001b[31m115868_009.png\u001b[m\u001b[m       \u001b[31m116966_002.png\u001b[m\u001b[m       \u001b[31m1_00143_sub0_000.png\u001b[m\u001b[m\n",
      "\u001b[31m115868_011.png\u001b[m\u001b[m       \u001b[31m116966_003.png\u001b[m\u001b[m       \u001b[31m1_00143_sub0_002.png\u001b[m\u001b[m\n",
      "\u001b[31m115868_012.png\u001b[m\u001b[m       \u001b[31m116966_005.png\u001b[m\u001b[m       \u001b[31m1_00143_sub0_003.png\u001b[m\u001b[m\n",
      "\u001b[31m115868_013.png\u001b[m\u001b[m       \u001b[31m116966_006.png\u001b[m\u001b[m       \u001b[31m1_00143_sub0_004.png\u001b[m\u001b[m\n",
      "\u001b[31m115868_014.png\u001b[m\u001b[m       \u001b[31m116966_007.png\u001b[m\u001b[m       \u001b[31m1_00143_sub0_006.png\u001b[m\u001b[m\n",
      "\u001b[31m115871_000.png\u001b[m\u001b[m       \u001b[31m116966_008.png\u001b[m\u001b[m       \u001b[31m1_00143_sub0_009.png\u001b[m\u001b[m\n",
      "\u001b[31m115871_001.png\u001b[m\u001b[m       \u001b[31m116966_010.png\u001b[m\u001b[m       \u001b[31m1_00143_sub0_010.png\u001b[m\u001b[m\n",
      "\u001b[31m115871_004.png\u001b[m\u001b[m       \u001b[31m116966_012.png\u001b[m\u001b[m       \u001b[31m1_00143_sub0_012.png\u001b[m\u001b[m\n",
      "\u001b[31m115871_006.png\u001b[m\u001b[m       \u001b[31m116972_000.png\u001b[m\u001b[m       \u001b[31m1_00143_sub0_016.png\u001b[m\u001b[m\n",
      "\u001b[31m115871_007.png\u001b[m\u001b[m       \u001b[31m116972_003.png\u001b[m\u001b[m       \u001b[31m1_00143_sub0_017.png\u001b[m\u001b[m\n",
      "\u001b[31m115871_009.png\u001b[m\u001b[m       \u001b[31m116972_004.png\u001b[m\u001b[m       \u001b[31m1_00143_sub0_019.png\u001b[m\u001b[m\n",
      "\u001b[31m115871_014.png\u001b[m\u001b[m       \u001b[31m116972_005.png\u001b[m\u001b[m       \u001b[31m1_00143_sub0_021.png\u001b[m\u001b[m\n",
      "\u001b[31m115872_000.png\u001b[m\u001b[m       \u001b[31m116972_009.png\u001b[m\u001b[m       \u001b[31m1_00143_sub0_022.png\u001b[m\u001b[m\n",
      "\u001b[31m115872_002.png\u001b[m\u001b[m       \u001b[31m116972_010.png\u001b[m\u001b[m       \u001b[31m1_00143_sub0_023.png\u001b[m\u001b[m\n",
      "\u001b[31m115872_006.png\u001b[m\u001b[m       \u001b[31m116972_012.png\u001b[m\u001b[m       \u001b[31m1_00143_sub0_024.png\u001b[m\u001b[m\n",
      "\u001b[31m115872_007.png\u001b[m\u001b[m       \u001b[31m116972_013.png\u001b[m\u001b[m       \u001b[31m1_00143_sub0_025.png\u001b[m\u001b[m\n",
      "\u001b[31m115872_008.png\u001b[m\u001b[m       \u001b[31m116972_014.png\u001b[m\u001b[m       \u001b[31m1_00143_sub0_029.png\u001b[m\u001b[m\n",
      "\u001b[31m115872_010.png\u001b[m\u001b[m       \u001b[31m116973_000.png\u001b[m\u001b[m       \u001b[31m1_00143_sub0_030.png\u001b[m\u001b[m\n",
      "\u001b[31m115872_011.png\u001b[m\u001b[m       \u001b[31m116973_001.png\u001b[m\u001b[m       \u001b[31m1_00143_sub0_032.png\u001b[m\u001b[m\n",
      "\u001b[31m115872_013.png\u001b[m\u001b[m       \u001b[31m116973_002.png\u001b[m\u001b[m       \u001b[31m1_00143_sub0_033.png\u001b[m\u001b[m\n",
      "\u001b[31m115872_014.png\u001b[m\u001b[m       \u001b[31m116973_004.png\u001b[m\u001b[m       \u001b[31m1_00143_sub0_036.png\u001b[m\u001b[m\n",
      "\u001b[31m115879_003.png\u001b[m\u001b[m       \u001b[31m116973_005.png\u001b[m\u001b[m       \u001b[31m1_00143_sub0_037.png\u001b[m\u001b[m\n",
      "\u001b[31m115879_004.png\u001b[m\u001b[m       \u001b[31m116973_007.png\u001b[m\u001b[m       \u001b[31m1_00143_sub0_038.png\u001b[m\u001b[m\n",
      "\u001b[31m115879_008.png\u001b[m\u001b[m       \u001b[31m116973_008.png\u001b[m\u001b[m       \u001b[31m1_00143_sub0_042.png\u001b[m\u001b[m\n",
      "\u001b[31m115879_009.png\u001b[m\u001b[m       \u001b[31m116973_010.png\u001b[m\u001b[m       \u001b[31m1_00143_sub0_045.png\u001b[m\u001b[m\n",
      "\u001b[31m115879_010.png\u001b[m\u001b[m       \u001b[31m116973_011.png\u001b[m\u001b[m       \u001b[31m1_00143_sub0_049.png\u001b[m\u001b[m\n",
      "\u001b[31m115879_012.png\u001b[m\u001b[m       \u001b[31m116973_012.png\u001b[m\u001b[m       \u001b[31m1_00143_sub0_053.png\u001b[m\u001b[m\n",
      "\u001b[31m115879_013.png\u001b[m\u001b[m       \u001b[31m116973_013.png\u001b[m\u001b[m       \u001b[31m1_00143_sub0_054.png\u001b[m\u001b[m\n",
      "\u001b[31m115879_014.png\u001b[m\u001b[m       \u001b[31m116974_000.png\u001b[m\u001b[m       \u001b[31m1_00156_sub0_008.png\u001b[m\u001b[m\n",
      "\u001b[31m115887_000.png\u001b[m\u001b[m       \u001b[31m116974_001.png\u001b[m\u001b[m       \u001b[31m1_00156_sub0_010.png\u001b[m\u001b[m\n",
      "\u001b[31m115887_001.png\u001b[m\u001b[m       \u001b[31m116974_003.png\u001b[m\u001b[m       \u001b[31m1_00156_sub0_013.png\u001b[m\u001b[m\n",
      "\u001b[31m115887_002.png\u001b[m\u001b[m       \u001b[31m116974_004.png\u001b[m\u001b[m       \u001b[31m1_00156_sub0_014.png\u001b[m\u001b[m\n",
      "\u001b[31m115887_003.png\u001b[m\u001b[m       \u001b[31m116974_007.png\u001b[m\u001b[m       \u001b[31m1_00156_sub0_016.png\u001b[m\u001b[m\n",
      "\u001b[31m115887_004.png\u001b[m\u001b[m       \u001b[31m116974_010.png\u001b[m\u001b[m       \u001b[31m1_00156_sub0_017.png\u001b[m\u001b[m\n",
      "\u001b[31m115887_008.png\u001b[m\u001b[m       \u001b[31m116974_012.png\u001b[m\u001b[m       \u001b[31m1_00156_sub0_019.png\u001b[m\u001b[m\n",
      "\u001b[31m115887_010.png\u001b[m\u001b[m       \u001b[31m116974_013.png\u001b[m\u001b[m       \u001b[31m1_00156_sub0_021.png\u001b[m\u001b[m\n",
      "\u001b[31m115887_011.png\u001b[m\u001b[m       \u001b[31m116981_000.png\u001b[m\u001b[m       \u001b[31m1_00156_sub0_023.png\u001b[m\u001b[m\n",
      "\u001b[31m115887_012.png\u001b[m\u001b[m       \u001b[31m116981_001.png\u001b[m\u001b[m       \u001b[31m1_00156_sub0_024.png\u001b[m\u001b[m\n",
      "\u001b[31m115887_013.png\u001b[m\u001b[m       \u001b[31m116981_002.png\u001b[m\u001b[m       \u001b[31m1_00156_sub0_029.png\u001b[m\u001b[m\n",
      "\u001b[31m115887_014.png\u001b[m\u001b[m       \u001b[31m116981_003.png\u001b[m\u001b[m       \u001b[31m1_00156_sub0_034.png\u001b[m\u001b[m\n",
      "\u001b[31m115914_003.png\u001b[m\u001b[m       \u001b[31m116981_004.png\u001b[m\u001b[m       \u001b[31m1_00156_sub0_037.png\u001b[m\u001b[m\n",
      "\u001b[31m115914_004.png\u001b[m\u001b[m       \u001b[31m116981_006.png\u001b[m\u001b[m       \u001b[31m1_00156_sub0_039.png\u001b[m\u001b[m\n",
      "\u001b[31m115914_005.png\u001b[m\u001b[m       \u001b[31m116981_012.png\u001b[m\u001b[m       \u001b[31m1_00156_sub0_042.png\u001b[m\u001b[m\n",
      "\u001b[31m115914_006.png\u001b[m\u001b[m       \u001b[31m116981_013.png\u001b[m\u001b[m       \u001b[31m1_00156_sub0_044.png\u001b[m\u001b[m\n",
      "\u001b[31m115914_007.png\u001b[m\u001b[m       \u001b[31m116981_014.png\u001b[m\u001b[m       \u001b[31m1_00156_sub0_045.png\u001b[m\u001b[m\n",
      "\u001b[31m115914_008.png\u001b[m\u001b[m       \u001b[31m118202_003.png\u001b[m\u001b[m       \u001b[31m1_00156_sub0_047.png\u001b[m\u001b[m\n",
      "\u001b[31m115914_009.png\u001b[m\u001b[m       \u001b[31m118202_004.png\u001b[m\u001b[m       \u001b[31m1_00156_sub0_049.png\u001b[m\u001b[m\n",
      "\u001b[31m115914_012.png\u001b[m\u001b[m       \u001b[31m118202_006.png\u001b[m\u001b[m       \u001b[31m1_00156_sub0_050.png\u001b[m\u001b[m\n",
      "\u001b[31m115914_014.png\u001b[m\u001b[m       \u001b[31m118202_008.png\u001b[m\u001b[m       \u001b[31m1_00156_sub0_054.png\u001b[m\u001b[m\n",
      "\u001b[31m115916_000.png\u001b[m\u001b[m       \u001b[31m118202_010.png\u001b[m\u001b[m       \u001b[31m1_00156_sub0_056.png\u001b[m\u001b[m\n",
      "\u001b[31m115916_001.png\u001b[m\u001b[m       \u001b[31m118202_011.png\u001b[m\u001b[m       \u001b[31m1_00156_sub0_057.png\u001b[m\u001b[m\n",
      "\u001b[31m115916_002.png\u001b[m\u001b[m       \u001b[31m118202_013.png\u001b[m\u001b[m       \u001b[31m1_00161_sub0_001.png\u001b[m\u001b[m\n",
      "\u001b[31m115916_004.png\u001b[m\u001b[m       \u001b[31m118230_001.png\u001b[m\u001b[m       \u001b[31m1_00161_sub0_006.png\u001b[m\u001b[m\n",
      "\u001b[31m115916_008.png\u001b[m\u001b[m       \u001b[31m118230_004.png\u001b[m\u001b[m       \u001b[31m1_00161_sub0_014.png\u001b[m\u001b[m\n",
      "\u001b[31m115916_011.png\u001b[m\u001b[m       \u001b[31m118230_006.png\u001b[m\u001b[m       \u001b[31m1_00161_sub0_015.png\u001b[m\u001b[m\n",
      "\u001b[31m115916_012.png\u001b[m\u001b[m       \u001b[31m118230_007.png\u001b[m\u001b[m       \u001b[31m1_00161_sub0_016.png\u001b[m\u001b[m\n",
      "\u001b[31m115920_002.png\u001b[m\u001b[m       \u001b[31m118230_009.png\u001b[m\u001b[m       \u001b[31m1_00161_sub0_018.png\u001b[m\u001b[m\n",
      "\u001b[31m115920_005.png\u001b[m\u001b[m       \u001b[31m118230_010.png\u001b[m\u001b[m       \u001b[31m1_00161_sub0_023.png\u001b[m\u001b[m\n",
      "\u001b[31m115920_007.png\u001b[m\u001b[m       \u001b[31m118231_000.png\u001b[m\u001b[m       \u001b[31m1_00161_sub0_025.png\u001b[m\u001b[m\n",
      "\u001b[31m115920_010.png\u001b[m\u001b[m       \u001b[31m118231_003.png\u001b[m\u001b[m       \u001b[31m1_00161_sub0_026.png\u001b[m\u001b[m\n",
      "\u001b[31m115920_013.png\u001b[m\u001b[m       \u001b[31m118231_004.png\u001b[m\u001b[m       \u001b[31m1_00161_sub0_027.png\u001b[m\u001b[m\n",
      "\u001b[31m115920_014.png\u001b[m\u001b[m       \u001b[31m118231_012.png\u001b[m\u001b[m       \u001b[31m1_00161_sub0_029.png\u001b[m\u001b[m\n",
      "\u001b[31m115926_000.png\u001b[m\u001b[m       \u001b[31m118232_001.png\u001b[m\u001b[m       \u001b[31m1_00161_sub0_030.png\u001b[m\u001b[m\n",
      "\u001b[31m115926_001.png\u001b[m\u001b[m       \u001b[31m118232_004.png\u001b[m\u001b[m       \u001b[31m1_00161_sub0_035.png\u001b[m\u001b[m\n",
      "\u001b[31m115926_002.png\u001b[m\u001b[m       \u001b[31m118232_006.png\u001b[m\u001b[m       \u001b[31m1_00161_sub0_037.png\u001b[m\u001b[m\n",
      "\u001b[31m115926_004.png\u001b[m\u001b[m       \u001b[31m118232_008.png\u001b[m\u001b[m       \u001b[31m1_00161_sub0_038.png\u001b[m\u001b[m\n",
      "\u001b[31m115926_006.png\u001b[m\u001b[m       \u001b[31m118232_009.png\u001b[m\u001b[m       \u001b[31m1_00161_sub0_041.png\u001b[m\u001b[m\n",
      "\u001b[31m115926_008.png\u001b[m\u001b[m       \u001b[31m118232_010.png\u001b[m\u001b[m       \u001b[31m1_00161_sub0_042.png\u001b[m\u001b[m\n",
      "\u001b[31m115926_009.png\u001b[m\u001b[m       \u001b[31m118232_012.png\u001b[m\u001b[m       \u001b[31m1_00161_sub0_043.png\u001b[m\u001b[m\n",
      "\u001b[31m115926_010.png\u001b[m\u001b[m       \u001b[31m118232_014.png\u001b[m\u001b[m       \u001b[31m1_00161_sub0_045.png\u001b[m\u001b[m\n",
      "\u001b[31m115926_011.png\u001b[m\u001b[m       \u001b[31m118242_002.png\u001b[m\u001b[m       \u001b[31m1_00161_sub0_047.png\u001b[m\u001b[m\n",
      "\u001b[31m115926_012.png\u001b[m\u001b[m       \u001b[31m118242_004.png\u001b[m\u001b[m       \u001b[31m1_00161_sub0_049.png\u001b[m\u001b[m\n",
      "\u001b[31m115926_014.png\u001b[m\u001b[m       \u001b[31m118242_005.png\u001b[m\u001b[m       \u001b[31m1_00161_sub0_051.png\u001b[m\u001b[m\n",
      "\u001b[31m115934_000.png\u001b[m\u001b[m       \u001b[31m118242_007.png\u001b[m\u001b[m       \u001b[31m1_00161_sub0_055.png\u001b[m\u001b[m\n",
      "\u001b[31m115934_001.png\u001b[m\u001b[m       \u001b[31m118242_008.png\u001b[m\u001b[m       \u001b[31m1_00161_sub0_057.png\u001b[m\u001b[m\n",
      "\u001b[31m115934_003.png\u001b[m\u001b[m       \u001b[31m118242_011.png\u001b[m\u001b[m       \u001b[31m1_00161_sub0_058.png\u001b[m\u001b[m\n",
      "\u001b[31m115934_006.png\u001b[m\u001b[m       \u001b[31m118242_013.png\u001b[m\u001b[m       \u001b[31m2_00377_sub0_003.png\u001b[m\u001b[m\n",
      "\u001b[31m115934_007.png\u001b[m\u001b[m       \u001b[31m118242_014.png\u001b[m\u001b[m       \u001b[31m2_00377_sub0_005.png\u001b[m\u001b[m\n",
      "\u001b[31m115934_009.png\u001b[m\u001b[m       \u001b[31m118244_001.png\u001b[m\u001b[m       \u001b[31m2_00377_sub0_006.png\u001b[m\u001b[m\n",
      "\u001b[31m115934_010.png\u001b[m\u001b[m       \u001b[31m118244_002.png\u001b[m\u001b[m       \u001b[31m2_00377_sub0_008.png\u001b[m\u001b[m\n",
      "\u001b[31m115934_012.png\u001b[m\u001b[m       \u001b[31m118244_003.png\u001b[m\u001b[m       \u001b[31m2_00377_sub0_010.png\u001b[m\u001b[m\n",
      "\u001b[31m115934_013.png\u001b[m\u001b[m       \u001b[31m118244_004.png\u001b[m\u001b[m       \u001b[31m2_00377_sub0_015.png\u001b[m\u001b[m\n",
      "\u001b[31m115941_000.png\u001b[m\u001b[m       \u001b[31m118244_006.png\u001b[m\u001b[m       \u001b[31m2_00377_sub0_022.png\u001b[m\u001b[m\n",
      "\u001b[31m115941_003.png\u001b[m\u001b[m       \u001b[31m118244_007.png\u001b[m\u001b[m       \u001b[31m2_00377_sub0_024.png\u001b[m\u001b[m\n",
      "\u001b[31m115941_004.png\u001b[m\u001b[m       \u001b[31m118244_010.png\u001b[m\u001b[m       \u001b[31m2_00377_sub0_027.png\u001b[m\u001b[m\n",
      "\u001b[31m115941_005.png\u001b[m\u001b[m       \u001b[31m118244_011.png\u001b[m\u001b[m       \u001b[31m2_00377_sub0_030.png\u001b[m\u001b[m\n",
      "\u001b[31m115941_006.png\u001b[m\u001b[m       \u001b[31m118245_001.png\u001b[m\u001b[m       \u001b[31m2_00377_sub0_031.png\u001b[m\u001b[m\n",
      "\u001b[31m115941_007.png\u001b[m\u001b[m       \u001b[31m118245_004.png\u001b[m\u001b[m       \u001b[31m2_00377_sub0_033.png\u001b[m\u001b[m\n",
      "\u001b[31m115941_008.png\u001b[m\u001b[m       \u001b[31m118245_009.png\u001b[m\u001b[m       \u001b[31m2_00377_sub0_034.png\u001b[m\u001b[m\n",
      "\u001b[31m115941_010.png\u001b[m\u001b[m       \u001b[31m118245_010.png\u001b[m\u001b[m       \u001b[31m2_00377_sub0_035.png\u001b[m\u001b[m\n",
      "\u001b[31m115941_011.png\u001b[m\u001b[m       \u001b[31m118245_012.png\u001b[m\u001b[m       \u001b[31m2_00377_sub0_036.png\u001b[m\u001b[m\n",
      "\u001b[31m115941_012.png\u001b[m\u001b[m       \u001b[31m118245_014.png\u001b[m\u001b[m       \u001b[31m2_00377_sub0_037.png\u001b[m\u001b[m\n",
      "\u001b[31m115941_013.png\u001b[m\u001b[m       \u001b[31m118247_000.png\u001b[m\u001b[m       \u001b[31m2_00377_sub0_039.png\u001b[m\u001b[m\n",
      "\u001b[31m115949_000.png\u001b[m\u001b[m       \u001b[31m118247_002.png\u001b[m\u001b[m       \u001b[31m2_00377_sub0_040.png\u001b[m\u001b[m\n",
      "\u001b[31m115949_001.png\u001b[m\u001b[m       \u001b[31m118247_010.png\u001b[m\u001b[m       \u001b[31m2_00377_sub0_041.png\u001b[m\u001b[m\n",
      "\u001b[31m115949_003.png\u001b[m\u001b[m       \u001b[31m118247_011.png\u001b[m\u001b[m       \u001b[31m2_00377_sub0_042.png\u001b[m\u001b[m\n",
      "\u001b[31m115949_009.png\u001b[m\u001b[m       \u001b[31m118253_000.png\u001b[m\u001b[m       \u001b[31m2_00377_sub0_044.png\u001b[m\u001b[m\n",
      "\u001b[31m115949_012.png\u001b[m\u001b[m       \u001b[31m118253_001.png\u001b[m\u001b[m       \u001b[31m2_00377_sub0_045.png\u001b[m\u001b[m\n",
      "\u001b[31m115949_014.png\u001b[m\u001b[m       \u001b[31m118253_003.png\u001b[m\u001b[m       \u001b[31m2_00377_sub0_048.png\u001b[m\u001b[m\n",
      "\u001b[31m115951_001.png\u001b[m\u001b[m       \u001b[31m118253_007.png\u001b[m\u001b[m       \u001b[31m2_00377_sub0_050.png\u001b[m\u001b[m\n",
      "\u001b[31m115951_002.png\u001b[m\u001b[m       \u001b[31m118253_008.png\u001b[m\u001b[m       \u001b[31m2_00377_sub0_057.png\u001b[m\u001b[m\n",
      "\u001b[31m115951_004.png\u001b[m\u001b[m       \u001b[31m118253_014.png\u001b[m\u001b[m       \u001b[31m2_00377_sub0_059.png\u001b[m\u001b[m\n",
      "\u001b[31m115951_006.png\u001b[m\u001b[m       \u001b[31m118258_001.png\u001b[m\u001b[m       \u001b[31m2_00400_sub0_003.png\u001b[m\u001b[m\n",
      "\u001b[31m115951_007.png\u001b[m\u001b[m       \u001b[31m118258_002.png\u001b[m\u001b[m       \u001b[31m2_00400_sub0_004.png\u001b[m\u001b[m\n",
      "\u001b[31m115951_008.png\u001b[m\u001b[m       \u001b[31m118258_003.png\u001b[m\u001b[m       \u001b[31m2_00400_sub0_011.png\u001b[m\u001b[m\n",
      "\u001b[31m115951_010.png\u001b[m\u001b[m       \u001b[31m118258_005.png\u001b[m\u001b[m       \u001b[31m2_00400_sub0_014.png\u001b[m\u001b[m\n",
      "\u001b[31m115967_001.png\u001b[m\u001b[m       \u001b[31m118258_006.png\u001b[m\u001b[m       \u001b[31m2_00400_sub0_016.png\u001b[m\u001b[m\n",
      "\u001b[31m115967_002.png\u001b[m\u001b[m       \u001b[31m118258_007.png\u001b[m\u001b[m       \u001b[31m2_00400_sub0_023.png\u001b[m\u001b[m\n",
      "\u001b[31m115967_003.png\u001b[m\u001b[m       \u001b[31m118258_008.png\u001b[m\u001b[m       \u001b[31m2_00400_sub0_024.png\u001b[m\u001b[m\n",
      "\u001b[31m115967_004.png\u001b[m\u001b[m       \u001b[31m118258_009.png\u001b[m\u001b[m       \u001b[31m2_00400_sub0_026.png\u001b[m\u001b[m\n",
      "\u001b[31m115967_005.png\u001b[m\u001b[m       \u001b[31m118258_012.png\u001b[m\u001b[m       \u001b[31m2_00400_sub0_027.png\u001b[m\u001b[m\n",
      "\u001b[31m115967_008.png\u001b[m\u001b[m       \u001b[31m118258_014.png\u001b[m\u001b[m       \u001b[31m2_00400_sub0_029.png\u001b[m\u001b[m\n",
      "\u001b[31m115967_009.png\u001b[m\u001b[m       \u001b[31m118263_001.png\u001b[m\u001b[m       \u001b[31m2_00400_sub0_036.png\u001b[m\u001b[m\n",
      "\u001b[31m115971_003.png\u001b[m\u001b[m       \u001b[31m118263_002.png\u001b[m\u001b[m       \u001b[31m2_00400_sub0_037.png\u001b[m\u001b[m\n",
      "\u001b[31m115971_006.png\u001b[m\u001b[m       \u001b[31m118263_003.png\u001b[m\u001b[m       \u001b[31m2_00400_sub0_038.png\u001b[m\u001b[m\n",
      "\u001b[31m115971_007.png\u001b[m\u001b[m       \u001b[31m118263_004.png\u001b[m\u001b[m       \u001b[31m2_00400_sub0_041.png\u001b[m\u001b[m\n",
      "\u001b[31m115971_012.png\u001b[m\u001b[m       \u001b[31m118263_008.png\u001b[m\u001b[m       \u001b[31m2_00400_sub0_046.png\u001b[m\u001b[m\n",
      "\u001b[31m115971_013.png\u001b[m\u001b[m       \u001b[31m118263_009.png\u001b[m\u001b[m       \u001b[31m2_00400_sub0_047.png\u001b[m\u001b[m\n",
      "\u001b[31m116456_005.png\u001b[m\u001b[m       \u001b[31m118263_012.png\u001b[m\u001b[m       \u001b[31m2_00400_sub0_048.png\u001b[m\u001b[m\n",
      "\u001b[31m116456_006.png\u001b[m\u001b[m       \u001b[31m118278_000.png\u001b[m\u001b[m       \u001b[31m2_00400_sub0_053.png\u001b[m\u001b[m\n",
      "\u001b[31m116456_009.png\u001b[m\u001b[m       \u001b[31m118278_001.png\u001b[m\u001b[m       \u001b[31m2_00400_sub0_057.png\u001b[m\u001b[m\n",
      "\u001b[31m116456_014.png\u001b[m\u001b[m       \u001b[31m118278_002.png\u001b[m\u001b[m       \u001b[31mH3_02_2.png\u001b[m\u001b[m\n",
      "\u001b[31m116634_000.png\u001b[m\u001b[m       \u001b[31m118278_003.png\u001b[m\u001b[m       \u001b[31mH3_02_4.png\u001b[m\u001b[m\n",
      "\u001b[31m116634_003.png\u001b[m\u001b[m       \u001b[31m118278_007.png\u001b[m\u001b[m       \u001b[31mH3_04_1.png\u001b[m\u001b[m\n",
      "\u001b[31m116634_004.png\u001b[m\u001b[m       \u001b[31m118278_010.png\u001b[m\u001b[m       \u001b[31mH3_04_9.png\u001b[m\u001b[m\n",
      "\u001b[31m116634_005.png\u001b[m\u001b[m       \u001b[31m118278_012.png\u001b[m\u001b[m       \u001b[31mH3_05_4.png\u001b[m\u001b[m\n",
      "\u001b[31m116634_009.png\u001b[m\u001b[m       \u001b[31m118279_000.png\u001b[m\u001b[m       \u001b[31mH4_02_1.png\u001b[m\u001b[m\n",
      "\u001b[31m116634_010.png\u001b[m\u001b[m       \u001b[31m118279_003.png\u001b[m\u001b[m       \u001b[31mH4_04_6.png\u001b[m\u001b[m\n",
      "\u001b[31m116655_002.png\u001b[m\u001b[m       \u001b[31m118279_005.png\u001b[m\u001b[m       \u001b[31mH4_04_8.png\u001b[m\u001b[m\n",
      "\u001b[31m116655_003.png\u001b[m\u001b[m       \u001b[31m118279_006.png\u001b[m\u001b[m       \u001b[31mH4_08_2.png\u001b[m\u001b[m\n",
      "\u001b[31m116655_005.png\u001b[m\u001b[m       \u001b[31m118279_007.png\u001b[m\u001b[m       \u001b[31mH4_08_5.png\u001b[m\u001b[m\n",
      "\u001b[31m116655_006.png\u001b[m\u001b[m       \u001b[31m118279_008.png\u001b[m\u001b[m       \u001b[31mH4_08_6.png\u001b[m\u001b[m\n",
      "\u001b[31m116655_007.png\u001b[m\u001b[m       \u001b[31m118279_009.png\u001b[m\u001b[m       \u001b[31mH4_08_9.png\u001b[m\u001b[m\n",
      "\u001b[31m116655_008.png\u001b[m\u001b[m       \u001b[31m118279_010.png\u001b[m\u001b[m       \u001b[31mH4_09_4.png\u001b[m\u001b[m\n",
      "\u001b[31m116655_009.png\u001b[m\u001b[m       \u001b[31m118279_012.png\u001b[m\u001b[m       \u001b[31mH4_11_7.png\u001b[m\u001b[m\n",
      "\u001b[31m116655_010.png\u001b[m\u001b[m       \u001b[31m118279_013.png\u001b[m\u001b[m       \u001b[31mH4_12_4.png\u001b[m\u001b[m\n",
      "\u001b[31m116655_011.png\u001b[m\u001b[m       \u001b[31m118279_014.png\u001b[m\u001b[m       \u001b[31mH4_12_9.png\u001b[m\u001b[m\n",
      "\u001b[31m116655_013.png\u001b[m\u001b[m       \u001b[31m118281_001.png\u001b[m\u001b[m       \u001b[31mH4_13_2.png\u001b[m\u001b[m\n",
      "\u001b[31m116663_002.png\u001b[m\u001b[m       \u001b[31m118287_001.png\u001b[m\u001b[m       \u001b[31mH4_15_1.png\u001b[m\u001b[m\n",
      "\u001b[31m116663_004.png\u001b[m\u001b[m       \u001b[31m118287_004.png\u001b[m\u001b[m       \u001b[31mH4_15_6.png\u001b[m\u001b[m\n",
      "\u001b[31m116663_005.png\u001b[m\u001b[m       \u001b[31m118287_007.png\u001b[m\u001b[m       \u001b[31mH4_17_8.png\u001b[m\u001b[m\n",
      "\u001b[31m116663_009.png\u001b[m\u001b[m       \u001b[31m118287_009.png\u001b[m\u001b[m       \u001b[31mH4_19_1.png\u001b[m\u001b[m\n",
      "\u001b[31m116663_014.png\u001b[m\u001b[m       \u001b[31m118290_001.png\u001b[m\u001b[m       \u001b[31mH4_19_2.png\u001b[m\u001b[m\n",
      "\u001b[31m116668_003.png\u001b[m\u001b[m       \u001b[31m118290_004.png\u001b[m\u001b[m       \u001b[31mH4_21_5.png\u001b[m\u001b[m\n",
      "\u001b[31m116668_006.png\u001b[m\u001b[m       \u001b[31m118290_009.png\u001b[m\u001b[m       \u001b[31mH7_01_4.png\u001b[m\u001b[m\n",
      "\u001b[31m116668_007.png\u001b[m\u001b[m       \u001b[31m118290_010.png\u001b[m\u001b[m       \u001b[31mH7_09_9.png\u001b[m\u001b[m\n",
      "\u001b[31m116668_008.png\u001b[m\u001b[m       \u001b[31m118290_014.png\u001b[m\u001b[m       \u001b[31mH7_12_2.png\u001b[m\u001b[m\n",
      "\u001b[31m116668_009.png\u001b[m\u001b[m       \u001b[31m118315_000.png\u001b[m\u001b[m       \u001b[31mH7_12_4.png\u001b[m\u001b[m\n",
      "\u001b[31m116668_013.png\u001b[m\u001b[m       \u001b[31m118315_001.png\u001b[m\u001b[m       \u001b[31mH7_13_3.png\u001b[m\u001b[m\n",
      "\u001b[31m116670_002.png\u001b[m\u001b[m       \u001b[31m118315_003.png\u001b[m\u001b[m       \u001b[31mH7_13_7.png\u001b[m\u001b[m\n",
      "\u001b[31m116670_004.png\u001b[m\u001b[m       \u001b[31m118315_004.png\u001b[m\u001b[m       \u001b[31mH7_14_4.png\u001b[m\u001b[m\n",
      "\u001b[31m116670_005.png\u001b[m\u001b[m       \u001b[31m118315_005.png\u001b[m\u001b[m       \u001b[31mH7_15_1.png\u001b[m\u001b[m\n",
      "\u001b[31m116670_006.png\u001b[m\u001b[m       \u001b[31m118315_009.png\u001b[m\u001b[m       \u001b[31mH7_15_6.png\u001b[m\u001b[m\n",
      "\u001b[31m116670_008.png\u001b[m\u001b[m       \u001b[31m118334_002.png\u001b[m\u001b[m       \u001b[31mH7_15_8.png\u001b[m\u001b[m\n",
      "\u001b[31m116670_009.png\u001b[m\u001b[m       \u001b[31m118334_003.png\u001b[m\u001b[m       \u001b[31mH7_20_5.png\u001b[m\u001b[m\n",
      "\u001b[31m116670_011.png\u001b[m\u001b[m       \u001b[31m118334_005.png\u001b[m\u001b[m       \u001b[31mH7_21_8.png\u001b[m\u001b[m\n",
      "\u001b[31m116670_014.png\u001b[m\u001b[m       \u001b[31m118334_007.png\u001b[m\u001b[m       \u001b[31mH7_22_3.png\u001b[m\u001b[m\n",
      "\u001b[31m116676_000.png\u001b[m\u001b[m       \u001b[31m118334_010.png\u001b[m\u001b[m       \u001b[31mH7_25_4.png\u001b[m\u001b[m\n",
      "\u001b[31m116676_001.png\u001b[m\u001b[m       \u001b[31m118334_011.png\u001b[m\u001b[m       \u001b[31mH7_26_3.png\u001b[m\u001b[m\n",
      "\u001b[31m116676_002.png\u001b[m\u001b[m       \u001b[31m118334_012.png\u001b[m\u001b[m       \u001b[31mH7_27_6.png\u001b[m\u001b[m\n",
      "\u001b[31m116676_004.png\u001b[m\u001b[m       \u001b[31m118334_013.png\u001b[m\u001b[m       \u001b[31mH7_28_1.png\u001b[m\u001b[m\n",
      "\u001b[31m116676_008.png\u001b[m\u001b[m       \u001b[31m118335_001.png\u001b[m\u001b[m       \u001b[31mH7_28_7.png\u001b[m\u001b[m\n",
      "\u001b[31m116679_003.png\u001b[m\u001b[m       \u001b[31m118335_005.png\u001b[m\u001b[m       \u001b[31mH7_28_9.png\u001b[m\u001b[m\n",
      "\u001b[31m116679_004.png\u001b[m\u001b[m       \u001b[31m118335_007.png\u001b[m\u001b[m       \u001b[31mH7_29_6.png\u001b[m\u001b[m\n",
      "\u001b[31m116679_005.png\u001b[m\u001b[m       \u001b[31m118335_011.png\u001b[m\u001b[m       \u001b[31mH7_30_6.png\u001b[m\u001b[m\n",
      "\u001b[31m116679_006.png\u001b[m\u001b[m       \u001b[31m118335_012.png\u001b[m\u001b[m       \u001b[31mH7_32_1.png\u001b[m\u001b[m\n",
      "\u001b[31m116679_007.png\u001b[m\u001b[m       \u001b[31m118336_000.png\u001b[m\u001b[m       \u001b[31mH7_32_6.png\u001b[m\u001b[m\n",
      "\u001b[31m116679_008.png\u001b[m\u001b[m       \u001b[31m118336_002.png\u001b[m\u001b[m       \u001b[31mH7_32_9.png\u001b[m\u001b[m\n",
      "\u001b[31m116679_009.png\u001b[m\u001b[m       \u001b[31m118336_004.png\u001b[m\u001b[m       \u001b[31mH7_33_3.png\u001b[m\u001b[m\n",
      "\u001b[31m116679_010.png\u001b[m\u001b[m       \u001b[31m118336_006.png\u001b[m\u001b[m       \u001b[31mH7_36_3.png\u001b[m\u001b[m\n",
      "\u001b[31m116679_011.png\u001b[m\u001b[m       \u001b[31m118336_009.png\u001b[m\u001b[m       \u001b[31mH7_36_9.png\u001b[m\u001b[m\n",
      "\u001b[31m116679_012.png\u001b[m\u001b[m       \u001b[31m118336_011.png\u001b[m\u001b[m       \u001b[31mH7_37_3.png\u001b[m\u001b[m\n",
      "\u001b[31m116679_014.png\u001b[m\u001b[m       \u001b[31m118336_012.png\u001b[m\u001b[m       \u001b[31mH7_38_4.png\u001b[m\u001b[m\n",
      "\u001b[31m116680_001.png\u001b[m\u001b[m       \u001b[31m118341_000.png\u001b[m\u001b[m       \u001b[31mH7_42_1.png\u001b[m\u001b[m\n",
      "\u001b[31m116680_002.png\u001b[m\u001b[m       \u001b[31m118341_002.png\u001b[m\u001b[m       \u001b[31mH7_43_8.png\u001b[m\u001b[m\n",
      "\u001b[31m116680_003.png\u001b[m\u001b[m       \u001b[31m118341_005.png\u001b[m\u001b[m       \u001b[31mH7_43_9.png\u001b[m\u001b[m\n",
      "\u001b[31m116680_005.png\u001b[m\u001b[m       \u001b[31m118341_009.png\u001b[m\u001b[m       \u001b[31mH7_44_1.png\u001b[m\u001b[m\n",
      "\u001b[31m116680_006.png\u001b[m\u001b[m       \u001b[31m118341_010.png\u001b[m\u001b[m       \u001b[31mH7_46_8.png\u001b[m\u001b[m\n",
      "\u001b[31m116680_007.png\u001b[m\u001b[m       \u001b[31m118341_011.png\u001b[m\u001b[m       \u001b[31mH7_47_5.png\u001b[m\u001b[m\n",
      "\u001b[31m116680_009.png\u001b[m\u001b[m       \u001b[31m118341_012.png\u001b[m\u001b[m       \u001b[31mH9_01_4.png\u001b[m\u001b[m\n",
      "\u001b[31m116680_013.png\u001b[m\u001b[m       \u001b[31m118341_013.png\u001b[m\u001b[m       \u001b[31mH9_02_2.png\u001b[m\u001b[m\n",
      "\u001b[31m116681_000.png\u001b[m\u001b[m       \u001b[31m118341_014.png\u001b[m\u001b[m       \u001b[31mLP11_01_8.png\u001b[m\u001b[m\n",
      "\u001b[31m116681_003.png\u001b[m\u001b[m       \u001b[31m118347_000.png\u001b[m\u001b[m       \u001b[31mLP11_02_8.png\u001b[m\u001b[m\n",
      "\u001b[31m116681_005.png\u001b[m\u001b[m       \u001b[31m118347_003.png\u001b[m\u001b[m       \u001b[31mLP11_06_4.png\u001b[m\u001b[m\n",
      "\u001b[31m116681_006.png\u001b[m\u001b[m       \u001b[31m118347_005.png\u001b[m\u001b[m       \u001b[31mLP1_02_3.png\u001b[m\u001b[m\n",
      "\u001b[31m116681_007.png\u001b[m\u001b[m       \u001b[31m118347_006.png\u001b[m\u001b[m       \u001b[31mLP1_03_5.png\u001b[m\u001b[m\n",
      "\u001b[31m116681_009.png\u001b[m\u001b[m       \u001b[31m118347_007.png\u001b[m\u001b[m       \u001b[31mLP1_09_3.png\u001b[m\u001b[m\n",
      "\u001b[31m116681_010.png\u001b[m\u001b[m       \u001b[31m118347_008.png\u001b[m\u001b[m       \u001b[31mLP1_13_4.png\u001b[m\u001b[m\n",
      "\u001b[31m116681_014.png\u001b[m\u001b[m       \u001b[31m118347_009.png\u001b[m\u001b[m       \u001b[31mLP1_21_8.png\u001b[m\u001b[m\n",
      "\u001b[31m116700_003.png\u001b[m\u001b[m       \u001b[31m118347_010.png\u001b[m\u001b[m       \u001b[31mLP1_23_3.png\u001b[m\u001b[m\n",
      "\u001b[31m116700_005.png\u001b[m\u001b[m       \u001b[31m118347_011.png\u001b[m\u001b[m       \u001b[31mLP1_23_5.png\u001b[m\u001b[m\n",
      "\u001b[31m116700_006.png\u001b[m\u001b[m       \u001b[31m118347_012.png\u001b[m\u001b[m       \u001b[31mLP1_30_5.png\u001b[m\u001b[m\n",
      "\u001b[31m116700_007.png\u001b[m\u001b[m       \u001b[31m118347_014.png\u001b[m\u001b[m       \u001b[31mLP1_32_1.png\u001b[m\u001b[m\n",
      "\u001b[31m116700_009.png\u001b[m\u001b[m       \u001b[31m118364_000.png\u001b[m\u001b[m       \u001b[31mLP1_33_3.png\u001b[m\u001b[m\n",
      "\u001b[31m116745_000.png\u001b[m\u001b[m       \u001b[31m118364_001.png\u001b[m\u001b[m       \u001b[31mLP1_34_9.png\u001b[m\u001b[m\n",
      "\u001b[31m116745_002.png\u001b[m\u001b[m       \u001b[31m118364_008.png\u001b[m\u001b[m       \u001b[31mLP8_04_3.png\u001b[m\u001b[m\n",
      "\u001b[31m116745_005.png\u001b[m\u001b[m       \u001b[31m118364_009.png\u001b[m\u001b[m       \u001b[31mLP8_07_5.png\u001b[m\u001b[m\n",
      "\u001b[31m116745_007.png\u001b[m\u001b[m       \u001b[31m118364_010.png\u001b[m\u001b[m       \u001b[31mLP8_08_2.png\u001b[m\u001b[m\n",
      "\u001b[31m116745_012.png\u001b[m\u001b[m       \u001b[31m118364_011.png\u001b[m\u001b[m       \u001b[31mLP8_08_5.png\u001b[m\u001b[m\n",
      "\u001b[31m116745_013.png\u001b[m\u001b[m       \u001b[31m118364_012.png\u001b[m\u001b[m       \u001b[31mLP8_11_2.png\u001b[m\u001b[m\n",
      "\u001b[31m116745_014.png\u001b[m\u001b[m       \u001b[31m118364_013.png\u001b[m\u001b[m       \u001b[31mLP8_12_5.png\u001b[m\u001b[m\n",
      "\u001b[31m116801_000.png\u001b[m\u001b[m       \u001b[31m118367_000.png\u001b[m\u001b[m       \u001b[31mLP8_13_5.png\u001b[m\u001b[m\n",
      "\u001b[31m116801_001.png\u001b[m\u001b[m       \u001b[31m118367_001.png\u001b[m\u001b[m       \u001b[31mLP8_16_3.png\u001b[m\u001b[m\n",
      "\u001b[31m116801_003.png\u001b[m\u001b[m       \u001b[31m118367_003.png\u001b[m\u001b[m       \u001b[31mLP8_16_6.png\u001b[m\u001b[m\n",
      "\u001b[31m116801_004.png\u001b[m\u001b[m       \u001b[31m118367_004.png\u001b[m\u001b[m       \u001b[31mLP8_17_9.png\u001b[m\u001b[m\n",
      "\u001b[31m116801_006.png\u001b[m\u001b[m       \u001b[31m118367_005.png\u001b[m\u001b[m       \u001b[31mLP8_19_4.png\u001b[m\u001b[m\n",
      "\u001b[31m116801_007.png\u001b[m\u001b[m       \u001b[31m118367_006.png\u001b[m\u001b[m       \u001b[31mLP8_21_4.png\u001b[m\u001b[m\n",
      "\u001b[31m116801_010.png\u001b[m\u001b[m       \u001b[31m118367_009.png\u001b[m\u001b[m       \u001b[31mLP8_21_6.png\u001b[m\u001b[m\n",
      "\u001b[31m116801_012.png\u001b[m\u001b[m       \u001b[31m118367_013.png\u001b[m\u001b[m       \u001b[31mLP8_26_1.png\u001b[m\u001b[m\n",
      "\u001b[31m116806_001.png\u001b[m\u001b[m       \u001b[31m118368_000.png\u001b[m\u001b[m       \u001b[31mLP8_34_4.png\u001b[m\u001b[m\n",
      "\u001b[31m116806_003.png\u001b[m\u001b[m       \u001b[31m118368_002.png\u001b[m\u001b[m       \u001b[31mLP8_36_8.png\u001b[m\u001b[m\n",
      "\u001b[31m116806_004.png\u001b[m\u001b[m       \u001b[31m118368_005.png\u001b[m\u001b[m       \u001b[31mLP8_38_8.png\u001b[m\u001b[m\n",
      "\u001b[31m116806_005.png\u001b[m\u001b[m       \u001b[31m118368_007.png\u001b[m\u001b[m       \u001b[31mLP8_39_4.png\u001b[m\u001b[m\n",
      "\u001b[31m116806_006.png\u001b[m\u001b[m       \u001b[31m118368_009.png\u001b[m\u001b[m       \u001b[31mLP8_50_4.png\u001b[m\u001b[m\n",
      "\u001b[31m116806_008.png\u001b[m\u001b[m       \u001b[31m118368_010.png\u001b[m\u001b[m       \u001b[31mLP8_52_5.png\u001b[m\u001b[m\n",
      "\u001b[31m116806_010.png\u001b[m\u001b[m       \u001b[31m118368_013.png\u001b[m\u001b[m       \u001b[31mLP8_52_6.png\u001b[m\u001b[m\n",
      "\u001b[31m116806_011.png\u001b[m\u001b[m       \u001b[31m118374_001.png\u001b[m\u001b[m       \u001b[31mLP8_52_7.png\u001b[m\u001b[m\n",
      "\u001b[31m116806_012.png\u001b[m\u001b[m       \u001b[31m118374_002.png\u001b[m\u001b[m       \u001b[31mLP8_56_8.png\u001b[m\u001b[m\n",
      "\u001b[31m116806_014.png\u001b[m\u001b[m       \u001b[31m118374_004.png\u001b[m\u001b[m       \u001b[31mLP8_60_2.png\u001b[m\u001b[m\n",
      "\u001b[31m116814_001.png\u001b[m\u001b[m       \u001b[31m118374_005.png\u001b[m\u001b[m       \u001b[31mLP8_63_9.png\u001b[m\u001b[m\n",
      "\u001b[31m116814_002.png\u001b[m\u001b[m       \u001b[31m118374_007.png\u001b[m\u001b[m       \u001b[31mLP8_69_4.png\u001b[m\u001b[m\n",
      "\u001b[31m116814_003.png\u001b[m\u001b[m       \u001b[31m118374_008.png\u001b[m\u001b[m       \u001b[31mLP8_69_7.png\u001b[m\u001b[m\n",
      "\u001b[31m116814_006.png\u001b[m\u001b[m       \u001b[31m118374_010.png\u001b[m\u001b[m\n",
      "\u001b[31m116814_007.png\u001b[m\u001b[m       \u001b[31m118374_011.png\u001b[m\u001b[m\n"
     ]
    }
   ],
   "source": [
    "!ls ../../Report-nmi-wsi/Images/test"
   ]
  }
 ],
 "metadata": {
  "kernelspec": {
   "display_name": "Python 3",
   "language": "python",
   "name": "python3"
  },
  "language_info": {
   "codemirror_mode": {
    "name": "ipython",
    "version": 3
   },
   "file_extension": ".py",
   "mimetype": "text/x-python",
   "name": "python",
   "nbconvert_exporter": "python",
   "pygments_lexer": "ipython3",
   "version": "3.8.2"
  },
  "vscode": {
   "interpreter": {
    "hash": "31f2aee4e71d21fbe5cf8b01ff0e069b9275f58929596ceb00d14d90e3e16cd6"
   }
  }
 },
 "nbformat": 4,
 "nbformat_minor": 5
}
