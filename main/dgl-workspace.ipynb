{
 "cells": [
  {
   "cell_type": "code",
   "execution_count": null,
   "id": "5622d9cc-554c-43e6-8aef-7c8c2b8a2f4d",
   "metadata": {},
   "outputs": [],
   "source": [
    "import os\n",
    "\n",
    "os.environ[\"DGLBACKEND\"] = \"pytorch\"\n",
    "import dgl\n",
    "import numpy as np\n",
    "import torch\n",
    "\n",
    "g = dgl.graph(([0, 0, 0, 0, 0], [1, 2, 3, 4, 5]), num_nodes=6)\n",
    "# Equivalently, PyTorch LongTensors also work.\n",
    "g = dgl.graph(\n",
    "    (torch.LongTensor([0, 0, 0, 0, 0]), torch.LongTensor([1, 2, 3, 4, 5])),\n",
    "    num_nodes=6,\n",
    ")\n",
    "\n",
    "# You can omit the number of nodes argument if you can tell the number of nodes from the edge list alone.\n",
    "g = dgl.graph(([0, 0, 0, 0, 0], [1, 2, 3, 4, 5]))"
   ]
  },
  {
   "cell_type": "code",
   "execution_count": null,
   "id": "c36389ce-ede1-49fb-b304-62e05e27ee01",
   "metadata": {},
   "outputs": [
    {
     "name": "stdout",
     "output_type": "stream",
     "text": [
      "tensor([[-1.0610, -2.6291, -1.5116,  1.2287],\n",
      "        [ 0.4833, -1.6545, -1.1173,  0.0300],\n",
      "        [ 0.0089,  0.4669,  0.4350,  1.2601],\n",
      "        [ 0.7695,  2.0895, -1.7074, -0.5123],\n",
      "        [ 0.0142, -0.0962, -1.2562, -0.8136]])\n"
     ]
    }
   ],
   "source": [
    "# Assign a 3-dimensional node feature vector for each node.\n",
    "g.ndata[\"x\"] = torch.randn(6, 3)\n",
    "# Assign a 4-dimensional edge feature vector for each edge.\n",
    "g.edata[\"a\"] = torch.randn(5, 4)\n",
    "# Assign a 5x4 node feature matrix for each node.  Node and edge features in DGL can be multi-dimensional.\n",
    "g.ndata[\"y\"] = torch.randn(6, 5, 4)\n",
    "\n",
    "print(g.edata[\"a\"])"
   ]
  },
  {
   "cell_type": "markdown",
   "id": "39445269-ba9d-4047-a40f-d9918315a31f",
   "metadata": {},
   "source": [
    "## Quantifying Graph Structure"
   ]
  },
  {
   "cell_type": "code",
   "execution_count": null,
   "id": "89e98920-a056-44af-8e83-2a8a2a48861d",
   "metadata": {},
   "outputs": [
    {
     "name": "stdout",
     "output_type": "stream",
     "text": [
      "6\n",
      "5\n",
      "5\n",
      "0\n"
     ]
    }
   ],
   "source": [
    "print(g.num_nodes())\n",
    "print(g.num_edges())\n",
    "# Out degrees of the center node\n",
    "print(g.out_degrees(0))\n",
    "# In degrees of the center node - note that the graph is directed so the in degree should be 0.\n",
    "print(g.in_degrees(0))"
   ]
  },
  {
   "cell_type": "code",
   "execution_count": null,
   "id": "0ce12075-939f-4540-b676-efeb4a7c9182",
   "metadata": {},
   "outputs": [],
   "source": [
    "# Induce a subgraph from node 0, node 1 and node 3 from the original graph.\n",
    "sg1 = g.subgraph([0, 1, 3])\n",
    "# Induce a subgraph from edge 0, edge 1 and edge 3 from the original graph.\n",
    "sg2 = g.edge_subgraph([0, 1, 3])"
   ]
  },
  {
   "cell_type": "code",
   "execution_count": null,
   "id": "23feaf4c-c165-4e6f-829d-09d68424972c",
   "metadata": {},
   "outputs": [
    {
     "name": "stdout",
     "output_type": "stream",
     "text": [
      "torch.Size([3, 3])\n",
      "torch.Size([2, 4])\n",
      "tensor([[-0.3360, -0.9976, -2.4161],\n",
      "        [ 2.4269, -0.9421,  0.6361],\n",
      "        [ 1.2461,  0.8691,  1.0383],\n",
      "        [ 0.8714, -0.4506, -0.8767]])\n",
      "tensor([[-1.0610, -2.6291, -1.5116,  1.2287],\n",
      "        [ 0.4833, -1.6545, -1.1173,  0.0300],\n",
      "        [ 0.7695,  2.0895, -1.7074, -0.5123]])\n"
     ]
    }
   ],
   "source": [
    "# The original node feature of each node in sg1\n",
    "print(sg1.ndata[\"x\"].shape)\n",
    "# The original edge feature of each node in sg1\n",
    "print(sg1.edata[\"a\"].shape)\n",
    "# The original node feature of each node in sg2\n",
    "print(sg2.ndata[\"x\"])\n",
    "# The original edge feature of each node in sg2\n",
    "print(sg2.edata[\"a\"])"
   ]
  },
  {
   "cell_type": "markdown",
   "id": "e5ccaefb-0a54-4bd5-8bc3-25843a944a33",
   "metadata": {},
   "source": [
    "## Save and Load Graphs"
   ]
  },
  {
   "cell_type": "code",
   "execution_count": null,
   "id": "f98d5df9-bfa1-4f5d-aeed-615b0f49f3c9",
   "metadata": {},
   "outputs": [],
   "source": [
    "dgl.save_graphs(\"graph.dgl\", g)"
   ]
  },
  {
   "cell_type": "code",
   "execution_count": null,
   "id": "a8bb496f-89a4-4c48-8672-8bafb540d5b2",
   "metadata": {},
   "outputs": [
    {
     "name": "stdout",
     "output_type": "stream",
     "text": [
      "[Graph(num_nodes=6, num_edges=5,\n",
      "      ndata_schemes={'y': Scheme(shape=(5, 4), dtype=torch.float32), 'x': Scheme(shape=(3,), dtype=torch.float32)}\n",
      "      edata_schemes={'a': Scheme(shape=(4,), dtype=torch.float32)})]\n",
      "-----\n",
      "{}\n"
     ]
    }
   ],
   "source": [
    "a,b = dgl.load_graphs(\"graph.dgl\")\n",
    "print(a)\n",
    "print(\"-----\")\n",
    "print(b)"
   ]
  },
  {
   "cell_type": "markdown",
   "id": "0d23b651-bd29-4013-9dd4-a189982c1f6b",
   "metadata": {},
   "source": [
    "## Custom GNN for Graph Classification Example"
   ]
  },
  {
   "cell_type": "code",
   "execution_count": null,
   "id": "4b8f4e3c-9f31-45ca-b516-054509f4efc1",
   "metadata": {},
   "outputs": [],
   "source": [
    "import os\n",
    "\n",
    "os.environ[\"DGLBACKEND\"] = \"pytorch\"\n",
    "import dgl\n",
    "import dgl.data\n",
    "import torch\n",
    "import torch.nn as nn\n",
    "import torch.nn.functional as F"
   ]
  },
  {
   "cell_type": "code",
   "execution_count": null,
   "id": "a9250874-c28b-441f-836e-f958c1ecbd6d",
   "metadata": {},
   "outputs": [
    {
     "name": "stdout",
     "output_type": "stream",
     "text": [
      "Downloading /home/featurize/.dgl/GINDataset.zip from https://raw.githubusercontent.com/weihua916/powerful-gnns/master/dataset.zip...\n",
      "Extracting file to /home/featurize/.dgl/GINDataset\n"
     ]
    }
   ],
   "source": [
    "# Generate a synthetic dataset with 10000 graphs, ranging from 10 to 500 nodes.\n",
    "dataset = dgl.data.GINDataset(\"PROTEINS\", self_loop=True)"
   ]
  },
  {
   "cell_type": "code",
   "execution_count": null,
   "id": "bcec1e70-3db5-4a0c-8893-ae44b42534b8",
   "metadata": {},
   "outputs": [
    {
     "name": "stdout",
     "output_type": "stream",
     "text": [
      "Node feature dimensionality: 3\n",
      "Number of graph categories: 2\n"
     ]
    }
   ],
   "source": [
    "print(\"Node feature dimensionality:\", dataset.dim_nfeats)\n",
    "print(\"Number of graph categories:\", dataset.gclasses)\n",
    "\n",
    "\n",
    "from dgl.dataloading import GraphDataLoader"
   ]
  },
  {
   "cell_type": "code",
   "execution_count": null,
   "id": "4aff3305-2c75-41ed-b32a-cd51f120da20",
   "metadata": {},
   "outputs": [
    {
     "ename": "AttributeError",
     "evalue": "'GINDataset' object has no attribute 'graph_label'",
     "output_type": "error",
     "traceback": [
      "\u001b[0;31m---------------------------------------------------------------------------\u001b[0m",
      "\u001b[0;31mAttributeError\u001b[0m                            Traceback (most recent call last)",
      "Cell \u001b[0;32mIn[24], line 1\u001b[0m\n\u001b[0;32m----> 1\u001b[0m \u001b[38;5;28mprint\u001b[39m(\u001b[43mdataset\u001b[49m\u001b[38;5;241;43m.\u001b[39;49m\u001b[43mgraph_label\u001b[49m)\n",
      "\u001b[0;31mAttributeError\u001b[0m: 'GINDataset' object has no attribute 'graph_label'"
     ]
    }
   ],
   "source": [
    "print(dataset.graph_label)"
   ]
  },
  {
   "cell_type": "markdown",
   "id": "b564bdbe-60ac-4702-81af-f3214fd93447",
   "metadata": {},
   "source": [
    "### Define a Graph Dataloader"
   ]
  },
  {
   "cell_type": "code",
   "execution_count": null,
   "id": "33111905-1b07-4e83-b062-796e5b1f2cf7",
   "metadata": {},
   "outputs": [],
   "source": []
  },
  {
   "cell_type": "code",
   "execution_count": null,
   "id": "a2dbcde5-3035-4fe9-9bb7-cbbdebfbe5f5",
   "metadata": {},
   "outputs": [],
   "source": [
    "from torch.utils.data.sampler import SubsetRandomSampler\n",
    "\n",
    "num_examples = len(dataset)\n",
    "num_train = int(num_examples * 0.8)\n",
    "\n",
    "train_sampler = SubsetRandomSampler(torch.arange(num_train))\n",
    "test_sampler = SubsetRandomSampler(torch.arange(num_train, num_examples))\n",
    "\n",
    "train_dataloader = GraphDataLoader(\n",
    "    dataset, sampler=train_sampler, batch_size=5, drop_last=False\n",
    ")\n",
    "test_dataloader = GraphDataLoader(\n",
    "    dataset, sampler=test_sampler, batch_size=5, drop_last=False\n",
    ")"
   ]
  },
  {
   "cell_type": "code",
   "execution_count": null,
   "id": "d95342d6-bd85-45f6-ab93-f830ae741e63",
   "metadata": {},
   "outputs": [
    {
     "name": "stdout",
     "output_type": "stream",
     "text": [
      "[Graph(num_nodes=202, num_edges=892,\n",
      "      ndata_schemes={'label': Scheme(shape=(), dtype=torch.int64), 'attr': Scheme(shape=(3,), dtype=torch.float32)}\n",
      "      edata_schemes={}), tensor([0, 0, 1, 0, 1])]\n"
     ]
    }
   ],
   "source": [
    "it = iter(train_dataloader)\n",
    "batch = next(it)\n",
    "print(batch)"
   ]
  },
  {
   "cell_type": "code",
   "execution_count": null,
   "id": "07a8f93b-ca39-4c51-b173-8bb02ecb5c68",
   "metadata": {},
   "outputs": [
    {
     "name": "stdout",
     "output_type": "stream",
     "text": [
      "Number of nodes for each graph element in the batch: tensor([30, 52, 13, 84, 23])\n",
      "Number of edges for each graph element in the batch: tensor([142, 250,  65, 320, 115])\n",
      "The original graphs in the minibatch:\n",
      "[Graph(num_nodes=30, num_edges=142,\n",
      "      ndata_schemes={'label': Scheme(shape=(), dtype=torch.int64), 'attr': Scheme(shape=(3,), dtype=torch.float32)}\n",
      "      edata_schemes={}), Graph(num_nodes=52, num_edges=250,\n",
      "      ndata_schemes={'label': Scheme(shape=(), dtype=torch.int64), 'attr': Scheme(shape=(3,), dtype=torch.float32)}\n",
      "      edata_schemes={}), Graph(num_nodes=13, num_edges=65,\n",
      "      ndata_schemes={'label': Scheme(shape=(), dtype=torch.int64), 'attr': Scheme(shape=(3,), dtype=torch.float32)}\n",
      "      edata_schemes={}), Graph(num_nodes=84, num_edges=320,\n",
      "      ndata_schemes={'label': Scheme(shape=(), dtype=torch.int64), 'attr': Scheme(shape=(3,), dtype=torch.float32)}\n",
      "      edata_schemes={}), Graph(num_nodes=23, num_edges=115,\n",
      "      ndata_schemes={'label': Scheme(shape=(), dtype=torch.int64), 'attr': Scheme(shape=(3,), dtype=torch.float32)}\n",
      "      edata_schemes={})]\n"
     ]
    }
   ],
   "source": [
    "batched_graph, labels = batch\n",
    "print(\n",
    "    \"Number of nodes for each graph element in the batch:\",\n",
    "    batched_graph.batch_num_nodes(),\n",
    ")\n",
    "print(\n",
    "    \"Number of edges for each graph element in the batch:\",\n",
    "    batched_graph.batch_num_edges(),\n",
    ")\n",
    "\n",
    "# Recover the original graph elements from the minibatch\n",
    "graphs = dgl.unbatch(batched_graph)\n",
    "print(\"The original graphs in the minibatch:\")\n",
    "print(graphs)"
   ]
  },
  {
   "cell_type": "markdown",
   "id": "b7c91086-6f49-499b-a8fa-ee578a54b68e",
   "metadata": {},
   "source": [
    "### Define Simple GCN"
   ]
  },
  {
   "cell_type": "code",
   "execution_count": null,
   "id": "ba75a36b-81f4-4cb4-8e5f-f0412c89cd0b",
   "metadata": {},
   "outputs": [],
   "source": [
    "from dgl.nn import GraphConv\n",
    "\n",
    "\n",
    "class GCN(nn.Module):\n",
    "    def __init__(self, in_feats, h_feats, num_classes):\n",
    "        super(GCN, self).__init__()\n",
    "        self.conv1 = GraphConv(in_feats, h_feats)\n",
    "        self.conv2 = GraphConv(h_feats, num_classes)\n",
    "\n",
    "    def forward(self, g, in_feat):\n",
    "        h = self.conv1(g, in_feat)\n",
    "        h = F.relu(h)\n",
    "        h = self.conv2(g, h)\n",
    "        g.ndata[\"h\"] = h\n",
    "        return dgl.mean_nodes(g, \"h\")"
   ]
  },
  {
   "cell_type": "code",
   "execution_count": null,
   "id": "670f14c5-8a19-4872-ae49-4633b4dc5859",
   "metadata": {},
   "outputs": [
    {
     "name": "stdout",
     "output_type": "stream",
     "text": [
      "data  hact-net\twork\n"
     ]
    }
   ],
   "source": [
    "!ls ../../"
   ]
  },
  {
   "cell_type": "code",
   "execution_count": null,
   "id": "025ccdbe-75f0-41f1-952a-73da3cca690e",
   "metadata": {},
   "outputs": [
    {
     "name": "stdout",
     "output_type": "stream",
     "text": [
      "Number of files in the directory: 4253\n"
     ]
    }
   ],
   "source": [
    "import os\n",
    "\n",
    "directory = \"../../data/Images\"  # Replace with the actual directory path\n",
    "\n",
    "# List all items (files and subdirectories) in the directory\n",
    "items = os.listdir(directory)\n",
    "\n",
    "# Filter out only the files from the list of items\n",
    "files = [item for item in items if os.path.isfile(os.path.join(directory, item))]\n",
    "\n",
    "num_files = len(files)\n",
    "print(\"Number of files in the directory:\", num_files)\n"
   ]
  },
  {
   "cell_type": "code",
   "execution_count": null,
   "id": "34436967-8201-457f-9be3-d226b8637d6f",
   "metadata": {},
   "outputs": [
    {
     "name": "stdout",
     "output_type": "stream",
     "text": [
      " Inference.ipynb\t    main\t\t\t    real-time.ipynb\n",
      " augment.ipynb\t\t    main.py\t\t\t   'resnet (1).py'\n",
      " dev_18.90_PHOENIX14-T.pt   main_copy.py\t\t    resnet.py\n",
      " hands-on-session-2\t    out.output-hypothesis-dev.ctm   session.zip\n",
      " histocartography\t    output_video-1.mp4\n",
      " histocartography.zip\t    output_video.mp4\n"
     ]
    }
   ],
   "source": [
    "!ls ../"
   ]
  },
  {
   "cell_type": "code",
   "execution_count": null,
   "id": "6b21b343-51c4-4266-9ff8-a271e9adde93",
   "metadata": {},
   "outputs": [
    {
     "ename": "",
     "evalue": "",
     "output_type": "error",
     "traceback": [
      "\u001b[1;31mRunning cells with '/usr/bin/python3' requires the ipykernel package.\n",
      "\u001b[1;31mRun the following command to install 'ipykernel' into the Python environment. \n",
      "\u001b[1;31mCommand: '/usr/bin/python3 -m pip install ipykernel -U --user --force-reinstall'"
     ]
    }
   ],
   "source": [
    "# import sys\n",
    "# import sys\n",
    "# sys.path.append('../histocartography/histocartography')  # Add the parent_folder to the Python path\n",
    "# from preprocessing import (\n",
    "#     VahadaneStainNormalizer,         # stain normalizer\n",
    "#     NucleiExtractor,                 # nuclei detector \n",
    "#     DeepFeatureExtractor,            # feature extractor \n",
    "#     KNNGraphBuilder,                 # kNN graph builder\n",
    "#     ColorMergedSuperpixelExtractor,  # tissue detector\n",
    "#     DeepFeatureExtractor,            # feature extractor\n",
    "#     RAGGraphBuilder,                 # build graph\n",
    "#     AssignmnentMatrixBuilder         # assignment matrix \n",
    "# )"
   ]
  },
  {
   "cell_type": "code",
   "execution_count": null,
   "id": "b4e03454-428a-4957-bb5f-a6758ad9f233",
   "metadata": {},
   "outputs": [
    {
     "ename": "",
     "evalue": "",
     "output_type": "error",
     "traceback": [
      "\u001b[1;31mRunning cells with '/usr/bin/python3' requires the ipykernel package.\n",
      "\u001b[1;31mRun the following command to install 'ipykernel' into the Python environment. \n",
      "\u001b[1;31mCommand: '/usr/bin/python3 -m pip install ipykernel -U --user --force-reinstall'"
     ]
    }
   ],
   "source": [
    "import os\n",
    "store_path = \"graph\"\n",
    "split = \"test\"\n",
    "image_name = \"1_00061_sub0_007\"\n",
    "cg_out = os.path.join(store_path, 'cell_graphs', split, image_name.replace('.png', '.bin'))\n",
    "tg_out = os.path.join(store_path, 'tissue_graphs', split, image_name.replace('.png', '.bin'))\n",
    "assign_out = os.path.join(store_path, 'assignment_matrices', split, image_name.replace('.png', '.h5'))"
   ]
  },
  {
   "cell_type": "code",
   "execution_count": null,
   "id": "6570f8a3",
   "metadata": {},
   "outputs": [],
   "source": [
    "print(cg_ou)"
   ]
  }
 ],
 "metadata": {
  "kernelspec": {
   "display_name": "Python 3",
   "language": "python",
   "name": "python3"
  },
  "language_info": {
   "codemirror_mode": {
    "name": "ipython",
    "version": 3
   },
   "file_extension": ".py",
   "mimetype": "text/x-python",
   "name": "python",
   "nbconvert_exporter": "python",
   "pygments_lexer": "ipython3",
   "version": "3.8.2 (default, Aug 25 2020, 09:23:57) \n[Clang 12.0.0 (clang-1200.0.32.2)]"
  },
  "vscode": {
   "interpreter": {
    "hash": "31f2aee4e71d21fbe5cf8b01ff0e069b9275f58929596ceb00d14d90e3e16cd6"
   }
  }
 },
 "nbformat": 4,
 "nbformat_minor": 5
}
