{
 "cells": [
  {
   "cell_type": "code",
   "execution_count": 5,
   "metadata": {},
   "outputs": [],
   "source": [
    "import os\n",
    "import sys\n",
    "from glob import glob\n",
    "import json"
   ]
  },
  {
   "cell_type": "code",
   "execution_count": 7,
   "metadata": {},
   "outputs": [
    {
     "name": "stdout",
     "output_type": "stream",
     "text": [
      "../../Report-nmi-wsi/test_annotation.json\n"
     ]
    }
   ],
   "source": [
    "base = \"../../Report-nmi-wsi\"\n",
    "path = \"test_annotation.json\"\n",
    "file_path = os.path.join(base,path)\n",
    "print(file_path)"
   ]
  },
  {
   "cell_type": "code",
   "execution_count": 29,
   "metadata": {},
   "outputs": [
    {
     "name": "stdout",
     "output_type": "stream",
     "text": [
      "First Key: 1_00143_sub0_021\n",
      "First Value: ['Minimal variability in nuclear size shape and outline consistent with moderate pleomorphism. Mild nuclear crowding is seen. There is marked disorganization and lack of cellular polarity toward the surface urothelium. Mitosis is infrequent. The nucleoli of nuclei are prominent. High grade.', 'Minimal variability in nuclear size shape and outline consistent with moderate pleomorphism. There is a mild degree of crowding. Architecturally the cells show complete lack of polarity toward the surface urothelium. There are infrequent mitotic figures throughout the tissue. Prominent nucleoli are easily identified in low magnification scanning. High grade.', 'Moderate pleomorphism and cytologic atypia is present. Nuclei are mildly crowded together. Polarity is completely lost. Mitosis is infrequent throughout the tissue. Prominent nucleoli are easily identified in low magnification scanning. High grade.', 'Moderate pleomorphism is present. The nuclei are crowded to a mild degree. Polarity is completely lost. Mitosis is infrequent throughout the tissue. Prominent nucleoli are easily identified in low magnification scanning. High grade.', 'Nuclear features show moderate pleomorphism. The nuclei are crowded to a mild degree. There is marked disorganization and lack of cellular polarity toward the surface urothelium. Mitotic figures are infrequent and limited to the lower half of the urothelium. Nucleoli is prominent. High grade.']\n"
     ]
    }
   ],
   "source": [
    "# Read the JSON file\n",
    "with open(file_path, 'r') as json_file:\n",
    "    data = json.load(json_file)\n",
    "\n",
    "# Extract the keys and print them\n",
    "keys = list(data.keys())\n",
    "# print(\"Keys:\", keys)\n",
    "\n",
    "# Print the first key-value pair\n",
    "if keys:\n",
    "    first_key = keys[0]\n",
    "    first_value = data[first_key]['caption']\n",
    "    print(\"First Key:\", first_key)\n",
    "    print(\"First Value:\", first_value)\n",
    "else:\n",
    "    print(\"The JSON file is empty.\")"
   ]
  },
  {
   "cell_type": "code",
   "execution_count": 11,
   "metadata": {},
   "outputs": [
    {
     "name": "stdout",
     "output_type": "stream",
     "text": [
      "fadfa.jpg\n"
     ]
    }
   ],
   "source": [
    "filename = \"fadfa.bin\"\n",
    "base_name, _ = os.path.splitext(filename)\n",
    "new_filename = base_name + \".jpg\"\n",
    "print(new_filename)"
   ]
  },
  {
   "cell_type": "code",
   "execution_count": 12,
   "metadata": {},
   "outputs": [
    {
     "name": "stdout",
     "output_type": "stream",
     "text": [
      "\u001b[34massignment_mat\u001b[m\u001b[m \u001b[34mcell_graphs\u001b[m\u001b[m    \u001b[34mtissue_graphs\u001b[m\u001b[m\n"
     ]
    }
   ],
   "source": [
    "!ls graph"
   ]
  },
  {
   "cell_type": "code",
   "execution_count": 16,
   "metadata": {},
   "outputs": [
    {
     "name": "stdout",
     "output_type": "stream",
     "text": [
      "['graph/cell_graphs/test/1_00061_sub0_002.bin', 'graph/cell_graphs/test/1_00061_sub0_004.bin']\n"
     ]
    }
   ],
   "source": [
    "cg_path = \"graph/cell_graphs/test\"\n",
    "cg = glob(os.path.join(cg_path, '*.bin'))\n",
    "cg.sort()\n",
    "num_cg = len(cg)\n",
    "print(cg)"
   ]
  },
  {
   "cell_type": "code",
   "execution_count": 34,
   "metadata": {},
   "outputs": [
    {
     "name": "stdout",
     "output_type": "stream",
     "text": [
      "['1_00061_sub0_002', '1_00061_sub0_004']\n"
     ]
    }
   ],
   "source": [
    "new_file_names = [os.path.splitext(os.path.split(i)[-1])[0] for i in cg]\n",
    "print(new_file_names)"
   ]
  },
  {
   "cell_type": "code",
   "execution_count": 21,
   "metadata": {},
   "outputs": [
    {
     "name": "stdout",
     "output_type": "stream",
     "text": [
      "1_00061_sub0_002.jpg\n",
      "1_00061_sub0_004.jpg\n"
     ]
    }
   ],
   "source": [
    "for i in cg:\n",
    "    spt = os.path.split(i)[-1]\n",
    "    base_name, _ = os.path.splitext(spt)\n",
    "    new_filename = base_name + \".jpg\"\n",
    "    print(new_filename)"
   ]
  },
  {
   "cell_type": "code",
   "execution_count": 53,
   "metadata": {},
   "outputs": [
    {
     "name": "stdout",
     "output_type": "stream",
     "text": [
      "\u001b[30m\u001b[43mImages\u001b[m\u001b[m                nmi-wsi.zip           \u001b[31mtrain_annotation.json\u001b[m\u001b[m\n",
      "\u001b[31mImages.zip\u001b[m\u001b[m            \u001b[34mtest\u001b[m\u001b[m\n",
      "\u001b[31mclass.json\u001b[m\u001b[m            \u001b[31mtest_annotation.json\u001b[m\u001b[m\n"
     ]
    }
   ],
   "source": [
    "!ls ../../Report-nmi-wsi"
   ]
  },
  {
   "cell_type": "code",
   "execution_count": 51,
   "metadata": {},
   "outputs": [
    {
     "name": "stdout",
     "output_type": "stream",
     "text": [
      "4253\n"
     ]
    }
   ],
   "source": [
    "all_image = glob(\"../../Report-nmi-wsi/Images/*.png\")\n",
    "print(len(all_image))"
   ]
  },
  {
   "cell_type": "code",
   "execution_count": 54,
   "metadata": {},
   "outputs": [
    {
     "name": "stdout",
     "output_type": "stream",
     "text": [
      "1889\n",
      "2364\n"
     ]
    }
   ],
   "source": [
    "test_report = \"../../Report-nmi-wsi/test_annotation.json\"\n",
    "train_report = \"../../Report-nmi-wsi/train_annotation.json\"\n",
    "\n",
    "with open(test_report, 'r') as test_file:\n",
    "    t_data = json.load(test_file)\n",
    "    print(len(t_data.keys()))\n",
    "\n",
    "with open(train_report, 'r') as train_file:\n",
    "    tr_data = json.load(train_file)\n",
    "    print(len(tr_data.keys()))\n",
    "\n"
   ]
  },
  {
   "cell_type": "code",
   "execution_count": 56,
   "metadata": {},
   "outputs": [
    {
     "name": "stdout",
     "output_type": "stream",
     "text": [
      "fdsfas\n"
     ]
    }
   ],
   "source": [
    "a = '1_00061_sub0_002'\n",
    "if a in t_data.keys():\n",
    "    print(a)\n",
    "if a in tr_data.keys():\n",
    "    print(\"fdsfas\")"
   ]
  },
  {
   "cell_type": "code",
   "execution_count": 69,
   "metadata": {},
   "outputs": [],
   "source": [
    "# report_path = \"../../Report-nmi-wsi\"\n",
    "# split = \"train\"\n",
    "# split_annotation = split+\"_annotation.json\"\n",
    "# report_path = os.path.join(report_path,split_annotation)\n",
    "# print(report_path)\n",
    "# print(file_path)\n",
    "# with open(report_path, 'r') as json_file:\n",
    "#     report_data = json.load(json_file)\n",
    "#     print(report_data)\n",
    "# print(new_file_names)\n",
    "# values_in_order = [report_data[key]['caption'] for key in new_file_names if key in report_data.keys()]\n",
    "# print(len(values_in_order[0]))"
   ]
  },
  {
   "cell_type": "code",
   "execution_count": 16,
   "metadata": {},
   "outputs": [
    {
     "name": "stdout",
     "output_type": "stream",
     "text": [
      "./graph/cell_graphs/test\n",
      "['./graph/cell_graphs/test/1_00061_sub0_004.bin', './graph/cell_graphs/test/1_00061_sub0_002.bin']\n",
      "\n",
      "[Graph(num_nodes=290, num_edges=1419,\n",
      "      ndata_schemes={'feat': Scheme(shape=(514,), dtype=torch.float32), 'centroid': Scheme(shape=(2,), dtype=torch.float32)}\n",
      "      edata_schemes={})]\n",
      "[Graph(num_nodes=387, num_edges=1908,\n",
      "      ndata_schemes={'feat': Scheme(shape=(514,), dtype=torch.float32), 'centroid': Scheme(shape=(2,), dtype=torch.float32)}\n",
      "      edata_schemes={})]\n"
     ]
    }
   ],
   "source": [
    "from dgl.data.utils import load_graphs\n",
    "from glob import glob\n",
    "graph_path = \"./graph\"\n",
    "split = \"test\" # Train Test Eval\n",
    "cg_path = os.path.join(graph_path,\"cell_graphs\",split)\n",
    "print(cg_path)\n",
    "\n",
    "cgs = glob(os.path.join(cg_path,'*bin'))\n",
    "print(cgs)\n",
    "print()\n",
    "cell_graphs = [load_graphs(cg) for cg in cgs]\n",
    "for i in cell_graphs:\n",
    "    print(i[0][0[]])\n"
   ]
  },
  {
   "cell_type": "code",
   "execution_count": 14,
   "metadata": {},
   "outputs": [
    {
     "name": "stdout",
     "output_type": "stream",
     "text": [
      "[Graph(num_nodes=290, num_edges=1419,\n",
      "      ndata_schemes={'feat': Scheme(shape=(514,), dtype=torch.float32), 'centroid': Scheme(shape=(2,), dtype=torch.float32)}\n",
      "      edata_schemes={})]\n",
      "Graph(num_nodes=290, num_edges=1419,\n",
      "      ndata_schemes={'feat': Scheme(shape=(514,), dtype=torch.float32), 'centroid': Scheme(shape=(2,), dtype=torch.float32)}\n",
      "      edata_schemes={})\n"
     ]
    }
   ],
   "source": [
    "print(first[0])\n",
    "print(first[0][0])"
   ]
  },
  {
   "cell_type": "code",
   "execution_count": 5,
   "metadata": {},
   "outputs": [
    {
     "name": "stdout",
     "output_type": "stream",
     "text": [
      "\u001b[34mtest\u001b[m\u001b[m\n"
     ]
    }
   ],
   "source": [
    "!ls graph/cell_graphs/test"
   ]
  }
 ],
 "metadata": {
  "kernelspec": {
   "display_name": "Python 3",
   "language": "python",
   "name": "python3"
  },
  "language_info": {
   "codemirror_mode": {
    "name": "ipython",
    "version": 3
   },
   "file_extension": ".py",
   "mimetype": "text/x-python",
   "name": "python",
   "nbconvert_exporter": "python",
   "pygments_lexer": "ipython3",
   "version": "3.8.2"
  },
  "orig_nbformat": 4,
  "vscode": {
   "interpreter": {
    "hash": "31f2aee4e71d21fbe5cf8b01ff0e069b9275f58929596ceb00d14d90e3e16cd6"
   }
  }
 },
 "nbformat": 4,
 "nbformat_minor": 2
}
