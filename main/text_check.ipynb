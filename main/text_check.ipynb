{
 "cells": [
  {
   "cell_type": "code",
   "execution_count": 1,
   "id": "e1b10e74",
   "metadata": {},
   "outputs": [],
   "source": [
    "# from evaluation import Scorer\n",
    "from Vocabulary import Vocabulary\n",
    "import numpy as np\n",
    "import json\n",
    "import os\n",
    "import pandas as pd\n",
    "import matplotlib.pyplot as plt\n",
    "import seaborn as sns"
   ]
  },
  {
   "cell_type": "code",
   "execution_count": 2,
   "id": "8f4fd7c9-dc9b-4585-8723-f6c4871a97bb",
   "metadata": {},
   "outputs": [],
   "source": [
    "import sys, os\n",
    "\n",
    "# Disable\n",
    "def blockPrint():\n",
    "    sys.stdout = open(os.devnull, 'w')\n",
    "\n",
    "# Restore\n",
    "def enablePrint():\n",
    "    sys.stdout = sys.__stdout__"
   ]
  },
  {
   "cell_type": "code",
   "execution_count": 3,
   "id": "bc4ed844",
   "metadata": {},
   "outputs": [],
   "source": [
    "\n",
    "from pycocoevalcap.bleu.bleu import Bleu\n",
    "from pycocoevalcap.meteor.meteor import Meteor\n",
    "from pycocoevalcap.rouge.rouge import Rouge\n",
    "from pycocoevalcap.cider.cider import Cider\n",
    "from pycocoevalcap.spice.spice import Spice\n",
    "import os\n",
    "import sys\n",
    "import ssl\n",
    "'''\n",
    "No need for cider because it is single evaluation\n",
    "'''\n",
    "class Scorer():\n",
    "    def __init__(self,ref,gt):\n",
    "        self.ref = ref\n",
    "        self.gt = gt\n",
    "        self.word_based_scorers = [\n",
    "            (Bleu(4), [\"Bleu_1\",\"Bleu_4\"]),\n",
    "            (Rouge(),\"ROUGE\"),\n",
    "            (Meteor(), \"Meteor\"),\n",
    "            (Cider(),\"CIDEr\")]\n",
    "\n",
    "\n",
    "        \n",
    "    def compute_scores(self):\n",
    "        # blockPrint()\n",
    "        total_scores = {\n",
    "            \"Bleu1\":[],\n",
    "            \"Bleu4\":[],\n",
    "            \"ROUGE\":[],\n",
    "            \"Meteor\":[],\n",
    "            \"CIDEr\": []\n",
    "            \n",
    "        \n",
    "        }\n",
    "\n",
    "        for scorer, method in self.word_based_scorers:\n",
    "            #print('computing %s score...'%(scorer.method()))\n",
    "            # print(scorer)\n",
    "            # print(method)\n",
    "            score, scores = scorer.compute_score(self.ref, self.gt)\n",
    "    \n",
    "            if type(method) == list:\n",
    "            #    for sc, scs, m in zip(score, scores, method):\n",
    "                    # print(\"----------Bleu----------\")\n",
    "                    # print(\"%s: %0.3f\"%(m, sc))\n",
    "                total_scores[\"Bleu1\"].append(score[0])\n",
    "#                 total_scores[\"Bleu2\"].append(score[1])\n",
    "#                 total_scores[\"Bleu3\"].append(score[2])\n",
    "                total_scores[\"Bleu4\"].append(score[3])\n",
    "            else:\n",
    "                # print(\"----------Other----------\")\n",
    "                # print(\"%s: %0.3f\"%(method, score))\n",
    "                # print(f\"method is {method} total is {total_scores}\")\n",
    "                total_scores[method].append(score)\n",
    "        # print(total_scores)\n",
    "        \n",
    "        # print('*****DONE*****')\n",
    "        # enablePrint()\n",
    "        return total_scores\n",
    "    def compute_scores_iterative(self):\n",
    "\n",
    "\n",
    "        total_scores = {\n",
    "            \"Bleu1\":[],\n",
    "            \"Bleu4\":[],\n",
    "            \"ROUGE\":[],\n",
    "            \"Meteor\":[]\n",
    "        }\n",
    "\n",
    "        for key in self.ref:\n",
    "            \n",
    "            curr_ref = {key:self.ref[key]}\n",
    "            curr_gt = {key:self.gt[key]}\n",
    "\n",
    "            for scorer, method in self.word_based_scorers:\n",
    "                #print('computing %s score...'%(scorer.method()))\n",
    "                # print(scorer)\n",
    "                # print(method)\n",
    "                #print(curr_gt)\n",
    "                score, _ = scorer.compute_score(curr_ref, curr_gt)\n",
    "                # print(score)\n",
    "                if type(method) == list:\n",
    "                    # for sc, scs, m in zip(score, scores, method):\n",
    "                        # print(\"----------Bleu----------\")\n",
    "                        # print(\"%s: %0.3f\"%(m, sc))\n",
    "                    total_scores[\"Bleu1\"].append(score[0])\n",
    "                    total_scores[\"Bleu4\"].append(score[3])\n",
    "                else:\n",
    "                    # print(\"----------Other----------\")\n",
    "                    # print(\"%s: %0.3f\"%(method, score))\n",
    "                    # print(f\"method is {method} score is {score}\")\n",
    "                    total_scores[method].append(score)\n",
    "                # print(score)\n",
    "        \n",
    "        # print('*****DONE*****')\n",
    "        # print(total_scores)\n",
    "        return total_scores\n",
    "        # for key,value in total_scores.items():\n",
    "        #     print('{}:{}'.format(key,value))"
   ]
  },
  {
   "cell_type": "code",
   "execution_count": 4,
   "id": "81fbe868",
   "metadata": {},
   "outputs": [
    {
     "name": "stdout",
     "output_type": "stream",
     "text": [
      "{'testlen': 21, 'reflen': 39, 'guess': [21, 19, 17, 15], 'correct': [13, 5, 2, 0]}\n",
      "ratio: 0.5384615384477318\n",
      "{'Bleu1': [0.2627069996797589], 'Bleu4': [1.4267738992082973e-05], 'ROUGE': [0.6048109965635738], 'Meteor': [0.1486687444679035], 'CIDEr': [2.2512549804426962]}\n",
      "fasf\n"
     ]
    }
   ],
   "source": [
    "ref = {\n",
    "           '1':['Slight variability in nuclear size shape and outline consistent with mild pleomorphism . There is a severe degree of crowding . Polarity is completely lost . Mitosis is frequent throughout the tissue . Prominent nucleoli are easily identified in low magnification scanning . High grade .',\n",
    "                'Mild pleomorphism is present . There is a severe degree of crowding . Architecturally the cells show complete lack of polarity toward the surface urothelium . Mitosis is frequent throughout the tissue . The nucleoli of nuclei are prominent . High grade .', \n",
    "                'Mild pleomorphism is present . Nuclei are severely crowded together . There is marked disorganization and lack of cellular polarity toward the surface urothelium . Mitosis is frequent . Nucleoli is prominent . High grade .', \n",
    "                'Mild pleomorphism and cytologic atypia is present . The nuclei are crowded to a severe degree . Polarity is completely lost . There are frequent mitotic figures throughout the tissue . The nucleoli of nuclei are prominent . High grade .', \n",
    "                'Nuclear features show mild pleomorphism . There is a severe degree of crowding . Architecturally the cells show complete lack of polarity toward the surface urothelium . Mitotic figures including the atypical forms are frequently seen in all levels of the urothelium . Nucleoli is prominent . High grade .'],\n",
    "            '2':['This is me.','This is he','This is she', 'This is me', 'This is me']}\n",
    "gen = {\n",
    "       '1':['mild pleomorphism . there are and prominent nucleoli are not observed or exceedingly rare and limited to .'],\n",
    "        '2':[\"This is me\"]}\n",
    "scorer = Scorer(ref,gen)\n",
    "tol_scores = scorer.compute_scores()\n",
    "print(tol_scores)\n",
    "# enablePrint()\n",
    "print(\"fasf\")"
   ]
  },
  {
   "cell_type": "code",
   "execution_count": 5,
   "id": "ef62ed26-4d2f-438d-a766-29d721549bb8",
   "metadata": {},
   "outputs": [
    {
     "name": "stdout",
     "output_type": "stream",
     "text": [
      "dict_keys(['1', '2', '3', '4', '5'])\n",
      "dict_keys(['1', '2', '3', '4', '5'])\n",
      "{'testlen': 168, 'reflen': 160, 'guess': [168, 163, 158, 153], 'correct': [153, 132, 119, 108]}\n",
      "ratio: 1.0499999999934375\n",
      "{'Bleu1': [0.9107142857088648], 'Bleu4': [0.7913118488226517], 'ROUGE': [0.7892658643594385], 'Meteor': [0.5068251934337468], 'CIDEr': [0.0]}\n"
     ]
    }
   ],
   "source": [
    "ref = {'1': ['Mild pleomorphism is present. There are no signs of crowding in the nuclei. Polarity along the basement membrane is negligibly lost. Mitosis is rare. The nuclei have inconspicuous nucleoli. Normal.'], '2': ['Nuclear features show mild pleomorphism. Pictured nuclei exhibit normal crowding. Polarity is not lost. Mitosis are exceedingly rare and limited only to the basal layer of urothelium. The nuclei have inconspicuous nucleoli. Normal.'], '3': ['Nuclear features show mild pleomorphism. There are no signs of crowding in the nuclei. The nuclei retain a normal polarity. Mitosis are exceedingly rare and limited only to the basal layer of urothelium. The nuclei have inconspicuous nucleoli. Normal.'], '4': ['Mild pleomorphism and cytologic atypia is present. There are no signs of crowding in the nuclei. Polarity along the basement membrane is negligibly lost. Mitosis appears to be rare. The nuclei have inconspicuous nucleoli. Normal.'], '5': ['Mild pleomorphism and cytologic atypia is present. There are no signs of crowding in the nuclei. Polarity of nuclei is negligibly lost. Mitosis is rare. Nucleoli is absent to inconspicuous. Normal.']}\n",
    "gt = {'1': ['Nuclear features show mild pleomorphism. Pictured nuclei exhibit normal crowding. Polarity is not lost. Mitosis are exceedingly rare and limited only to the basal layer of urothelium. The nuclei have inconspicuous nucleoli. Normal.', 'Nuclear features show mild pleomorphism. There are no signs of crowding in the nuclei. The nuclei retain a normal polarity. Mitosis are exceedingly rare and limited only to the basal layer of urothelium. The nuclei have inconspicuous nucleoli. Normal.', 'Mild pleomorphism and cytologic atypia is present. There are no signs of crowding in the nuclei. Polarity along the basement membrane is negligibly lost. Mitosis appears to be rare. The nuclei have inconspicuous nucleoli. Normal.', 'Mild pleomorphism and cytologic atypia is present. There are no signs of crowding in the nuclei. Polarity of nuclei is negligibly lost. Mitosis is rare. Nucleoli is absent to inconspicuous. Normal.'], '2': ['Mild pleomorphism is present. There are no signs of crowding in the nuclei. Polarity along the basement membrane is negligibly lost. Mitosis is rare. The nuclei have inconspicuous nucleoli. Normal.', 'Nuclear features show mild pleomorphism. There are no signs of crowding in the nuclei. The nuclei retain a normal polarity. Mitosis are exceedingly rare and limited only to the basal layer of urothelium. The nuclei have inconspicuous nucleoli. Normal.', 'Mild pleomorphism and cytologic atypia is present. There are no signs of crowding in the nuclei. Polarity along the basement membrane is negligibly lost. Mitosis appears to be rare. The nuclei have inconspicuous nucleoli. Normal.', 'Mild pleomorphism and cytologic atypia is present. There are no signs of crowding in the nuclei. Polarity of nuclei is negligibly lost. Mitosis is rare. Nucleoli is absent to inconspicuous. Normal.'], '3': ['Mild pleomorphism is present. There are no signs of crowding in the nuclei. Polarity along the basement membrane is negligibly lost. Mitosis is rare. The nuclei have inconspicuous nucleoli. Normal.', 'Nuclear features show mild pleomorphism. Pictured nuclei exhibit normal crowding. Polarity is not lost. Mitosis are exceedingly rare and limited only to the basal layer of urothelium. The nuclei have inconspicuous nucleoli. Normal.', 'Mild pleomorphism and cytologic atypia is present. There are no signs of crowding in the nuclei. Polarity along the basement membrane is negligibly lost. Mitosis appears to be rare. The nuclei have inconspicuous nucleoli. Normal.', 'Mild pleomorphism and cytologic atypia is present. There are no signs of crowding in the nuclei. Polarity of nuclei is negligibly lost. Mitosis is rare. Nucleoli is absent to inconspicuous. Normal.'], '4': ['Mild pleomorphism is present. There are no signs of crowding in the nuclei. Polarity along the basement membrane is negligibly lost. Mitosis is rare. The nuclei have inconspicuous nucleoli. Normal.', 'Nuclear features show mild pleomorphism. Pictured nuclei exhibit normal crowding. Polarity is not lost. Mitosis are exceedingly rare and limited only to the basal layer of urothelium. The nuclei have inconspicuous nucleoli. Normal.', 'Nuclear features show mild pleomorphism. There are no signs of crowding in the nuclei. The nuclei retain a normal polarity. Mitosis are exceedingly rare and limited only to the basal layer of urothelium. The nuclei have inconspicuous nucleoli. Normal.', 'Mild pleomorphism and cytologic atypia is present. There are no signs of crowding in the nuclei. Polarity of nuclei is negligibly lost. Mitosis is rare. Nucleoli is absent to inconspicuous. Normal.'], '5': ['Mild pleomorphism is present. There are no signs of crowding in the nuclei. Polarity along the basement membrane is negligibly lost. Mitosis is rare. The nuclei have inconspicuous nucleoli. Normal.', 'Nuclear features show mild pleomorphism. Pictured nuclei exhibit normal crowding. Polarity is not lost. Mitosis are exceedingly rare and limited only to the basal layer of urothelium. The nuclei have inconspicuous nucleoli. Normal.', 'Nuclear features show mild pleomorphism. There are no signs of crowding in the nuclei. The nuclei retain a normal polarity. Mitosis are exceedingly rare and limited only to the basal layer of urothelium. The nuclei have inconspicuous nucleoli. Normal.', 'Mild pleomorphism and cytologic atypia is present. There are no signs of crowding in the nuclei. Polarity along the basement membrane is negligibly lost. Mitosis appears to be rare. The nuclei have inconspicuous nucleoli. Normal.']}\n",
    "print(ref.keys())\n",
    "print(gt.keys())\n",
    "scorer = Scorer(gt,ref)\n",
    "tol_scores = scorer.compute_scores()\n",
    "print(tol_scores)"
   ]
  },
  {
   "cell_type": "code",
   "execution_count": 6,
   "id": "d58c869e",
   "metadata": {},
   "outputs": [
    {
     "name": "stdout",
     "output_type": "stream",
     "text": [
      "class.json\t      Images\t  test_annotation.json\n",
      "eval_annotation.json  Images.zip  train_annotation.json\n"
     ]
    }
   ],
   "source": [
    "!ls ../../../../../../srv/scratch/bic/peter/Report"
   ]
  },
  {
   "cell_type": "code",
   "execution_count": 7,
   "id": "2bdda719",
   "metadata": {},
   "outputs": [],
   "source": [
    "base = \"../../../../../../srv/scratch/bic/peter/Report\"\n",
    "train_name = \"train_annotation.json\"\n",
    "eval_name = \"eval_annotation.json\"\n",
    "test_name = \"test_annotation.json\"\n",
    "train_path = os.path.join(base,train_name)\n",
    "eval_path = os.path.join(base,eval_name)\n",
    "test_path = os.path.join(base,test_name)\n"
   ]
  },
  {
   "cell_type": "code",
   "execution_count": 8,
   "id": "cdcdc1ca",
   "metadata": {},
   "outputs": [],
   "source": [
    "def read_file(file_path):\n",
    "    # Read the JSON file\n",
    "    with open(file_path, 'r') as json_file:\n",
    "        data = json.load(json_file)\n",
    "\n",
    "    return data\n",
    "#     # Extract the keys and print them\n",
    "#     keys = list(data.keys())\n",
    "#     # print(\"Keys:\", keys)\n",
    "\n",
    "#     # Print the first key-value pair\n",
    "#     if keys:\n",
    "#         first_key = keys[0]\n",
    "#         first_value = data[first_key]['caption']\n",
    "#         print(\"First Key:\", first_key)\n",
    "#         print(\"First Value:\", first_value)\n",
    "#     else:\n",
    "#         print(\"The JSON file is empty.\")\n",
    "#     return data"
   ]
  },
  {
   "cell_type": "code",
   "execution_count": 16,
   "id": "613d7a49-1cfb-4ecd-8385-1567e3c42703",
   "metadata": {},
   "outputs": [
    {
     "name": "stdout",
     "output_type": "stream",
     "text": [
      "[2, 3, 4, 5]\n"
     ]
    }
   ],
   "source": [
    "train_data = read_file(train_path)\n",
    "'''\n",
    "Normal 0\n",
    "Low Grade 1\n",
    "High Grade 2\n",
    "Insufficient 3\n",
    "'''\n",
    "a = [2,3,4,5]\n",
    "for idx,val in enumerate(a):\n",
    "    if val == 3:\n",
    "        a[idx] = 5\n",
    "print(a)"
   ]
  },
  {
   "cell_type": "code",
   "execution_count": 22,
   "id": "1bc05c79-a2a5-4b32-88a5-f5f52da64f18",
   "metadata": {},
   "outputs": [
    {
     "name": "stdout",
     "output_type": "stream",
     "text": [
      "{'caption': ['Moderate pleomorphism is present. Nuclei are mildly crowded together. There is marked disorganization and lack of cellular polarity toward the surface urothelium. There are frequent mitotic figures throughout the tissue. Nucleoli are prominent and irregular. High grade.', 'Nuclear features show moderate pleomorphism. Nuclei are mildly crowded together. Polarity is completely lost. There are frequent mitotic figures throughout the tissue. Prominent nucleoli are easily identified in low magnification scanning. High grade.', 'Nuclear features show moderate pleomorphism. The nuclei are crowded to a mild degree. There is marked disorganization and lack of cellular polarity toward the surface urothelium. There are frequent mitotic figures throughout the tissue. The nucleoli of nuclei are prominent. High grade.', 'Moderate pleomorphism is present. There is a mild degree of crowding. Architecturally the cells show complete lack of polarity toward the surface urothelium. Mitotic figures including the atypical forms are frequently seen in all levels of the urothelium. The nucleoli of nuclei are prominent. High grade.', 'Minimal variability in nuclear size shape and outline consistent with moderate pleomorphism. Mild nuclear crowding is seen. Polarity is completely lost. Mitosis is frequent. The nucleoli of nuclei are prominent. High grade.'], 'label': 2}\n"
     ]
    }
   ],
   "source": [
    "key = list(train_data.keys())\n",
    "print(train_data[key[10]])"
   ]
  },
  {
   "cell_type": "code",
   "execution_count": null,
   "id": "f278c545",
   "metadata": {},
   "outputs": [],
   "source": [
    "train_data = read_file(train_path)\n",
    "eval_data = read_file(eval_path)\n",
    "test_data = read_file(test_path)"
   ]
  },
  {
   "cell_type": "code",
   "execution_count": 15,
   "id": "a27780e5",
   "metadata": {},
   "outputs": [],
   "source": [
    "# Scorer setup\n",
    "import random\n",
    "# Random sampling\n",
    "train_samp_key = random.sample(list(train_data.keys()),1200)\n",
    "eval_samp_key = random.sample(list(eval_data.keys()),450)\n",
    "test_samp_key = random.sample(list(test_data.keys()),500)"
   ]
  },
  {
   "cell_type": "code",
   "execution_count": 47,
   "id": "80c60c50",
   "metadata": {},
   "outputs": [],
   "source": [
    "# a = train_data\n",
    "def calc_stat(data_dict,name,pred,rest,key_num):\n",
    "    \n",
    "    data = data_dict[name]['caption']\n",
    "    # pred = {}\n",
    "    # rest = {}\n",
    "    total_score = {\n",
    "        'Bleu1':[],\n",
    "        'Bleu4':[],\n",
    "        'ROUGE':[],\n",
    "        'Meteor':[],\n",
    "        'CIDEr':[]\n",
    "    }\n",
    "    total_sum_score = {}\n",
    "    for i in range(len(data)):\n",
    "        key = str(key_num+i)\n",
    "        pred[key] = [data[i]]\n",
    "        rest[key] = data[:i] + data[i+1:]\n",
    "        # pred = {key:[data[i]]}\n",
    "        # rest = {key:data[:i] + data[i+1:]}\n",
    "    return pred,rest\n",
    "#     scorer = Scorer(rest,pred)\n",
    "#     tol_scores = scorer.compute_scores()\n",
    "#     # print(pred)\n",
    "#     # print(rest)\n",
    "#     # print(tol_scores)\n",
    "#     total_score['Bleu1'].append(tol_scores['Bleu1'][0])\n",
    "#     total_score['Bleu4'].append(tol_scores['Bleu4'][0])\n",
    "#     total_score['ROUGE'].append(tol_scores['ROUGE'][0])\n",
    "#     total_score['Meteor'].append(tol_scores['Meteor'][0])\n",
    "#     total_score['CIDEr'].append(tol_scores['CIDEr'][0])\n",
    "#     for key, value in total_score.items():\n",
    "#         total_sum_score[key] = [np.mean(value),np.std(value)]\n",
    "#     return total_score, total_sum_score\n",
    "\n",
    "\n",
    "# b,c= calc_stat(train_data,'N2_07_2')\n",
    "# print(b)\n",
    "# print(c)"
   ]
  },
  {
   "cell_type": "code",
   "execution_count": 54,
   "id": "f644704b-b724-42e2-aa54-9c7b9cafad5e",
   "metadata": {},
   "outputs": [],
   "source": [
    "def get_all_stat(data_dict):\n",
    "    pred = {}\n",
    "    rest = {}\n",
    "    all_stat = {\n",
    "        'Bleu1':[],\n",
    "        'Bleu4':[],\n",
    "        'ROUGE':[],\n",
    "        'Meteor':[],\n",
    "        'CIDEr':[],\n",
    "    }\n",
    "    all_sum_stat = {\n",
    "    }\n",
    "    i = 1\n",
    "    for key,value in data_dict.items():\n",
    "        pred,rest = calc_stat(data_dict,key,pred,rest,i)\n",
    "        #print(f\"i = {i}\")\n",
    "        i += 5\n",
    "    print(f\"finished building this\")\n",
    "    scorer = Scorer(rest,pred)\n",
    "    tol_scores = scorer.compute_scores()\n",
    "    print(tol_scores)\n",
    "    return tol_scores\n",
    "    # all_stat['Bleu1'].extend(result['Bleu1'])\n",
    "    # all_stat['Bleu4'].extend(result['Bleu4'])\n",
    "    # all_stat['ROUGE'].extend(result['ROUGE'])\n",
    "    # all_stat['Meteor'].extend(result['Meteor'])\n",
    "    # all_stat['CIDEr'].extend(result['CIDEr'])\n",
    "    #     all_sum_stat[key] = sum_result\n",
    "    # return all_stat,all_sum_stat"
   ]
  },
  {
   "cell_type": "code",
   "execution_count": 55,
   "id": "f2a2b13a-334f-4b2f-b8f7-3397148bda09",
   "metadata": {},
   "outputs": [],
   "source": [
    "def dict_sample(my_dict,k):\n",
    "    # Randomly select k unique keys from the dictionary\n",
    "    selected_keys = random.sample(list(my_dict.keys()), k)\n",
    "\n",
    "    # Create a new dictionary with the selected key-value pairs\n",
    "    selected_dict = {key: my_dict[key] for key in selected_keys}\n",
    "    return selected_dict"
   ]
  },
  {
   "cell_type": "code",
   "execution_count": 56,
   "id": "c0b9c38b-245c-4ab5-90a0-24e251ad8c37",
   "metadata": {},
   "outputs": [
    {
     "name": "stdout",
     "output_type": "stream",
     "text": [
      "<class 'dict'>\n"
     ]
    }
   ],
   "source": [
    "print(type(train_data))"
   ]
  },
  {
   "cell_type": "code",
   "execution_count": 57,
   "id": "e2bd29d4-ba21-40f2-9f69-8713db515608",
   "metadata": {},
   "outputs": [],
   "source": [
    "# selected_train = dict_sample(train_data, 600)\n",
    "# selected_eval = dict_sample(eval_data,300)\n",
    "# selected_test = dict_sample(test_data,350)"
   ]
  },
  {
   "cell_type": "code",
   "execution_count": 58,
   "id": "abecaaa9-8f00-49e7-955e-9df89ef3661c",
   "metadata": {},
   "outputs": [
    {
     "name": "stdout",
     "output_type": "stream",
     "text": [
      "finished building this\n",
      "{'testlen': 396145, 'reflen': 392164, 'guess': [396145, 384325, 372505, 360685], 'correct': [333286, 271077, 232248, 202678]}\n",
      "ratio: 1.01015136524515\n",
      "{'Bleu1': [0.8413232528493334], 'Bleu4': [0.6752488185548244], 'ROUGE': [0.6393684143564845], 'Meteor': [0.4101473123158665], 'CIDEr': [2.2323363674123877]}\n"
     ]
    }
   ],
   "source": [
    "\n",
    "\n",
    "from IPython.utils import io\n",
    "#with io.capture_output() as captured:\n",
    "get_all_stat(train_data)\n",
    "    #all_train_stat,all_train_sum_stat = get_all_stat(train_data)"
   ]
  },
  {
   "cell_type": "code",
   "execution_count": 61,
   "id": "44efc1b9-01c8-4f29-a18e-e723a90c06d9",
   "metadata": {},
   "outputs": [
    {
     "name": "stdout",
     "output_type": "stream",
     "text": [
      "finished building this\n",
      "{'testlen': 174003, 'reflen': 172701, 'guess': [174003, 169003, 164003, 159003], 'correct': [146653, 120144, 103381, 90600]}\n",
      "ratio: 1.0075390414647223\n",
      "{'Bleu1': [0.8428188019746738], 'Bleu4': [0.6811039924846368], 'ROUGE': [0.632644059462228], 'Meteor': [0.409578656291857], 'CIDEr': [1.9111396152986508]}\n"
     ]
    }
   ],
   "source": [
    "#with io.capture_output() as captured:\n",
    "get_all_stat(test_data)\n",
    "    #all_test_stat,all_test_sum_stat = get_all_stat(selected_test)"
   ]
  },
  {
   "cell_type": "code",
   "execution_count": 62,
   "id": "b2c6b565-87f3-45d4-9a8a-bd7ee74cc169",
   "metadata": {},
   "outputs": [
    {
     "name": "stdout",
     "output_type": "stream",
     "text": [
      "finished building this\n",
      "{'testlen': 155404, 'reflen': 153803, 'guess': [155404, 150959, 146514, 142069], 'correct': [130557, 106546, 91330, 79788]}\n",
      "ratio: 1.0104094198422593\n",
      "{'Bleu1': [0.8401135105917427], 'Bleu4': [0.6749897440669278], 'ROUGE': [0.623427282610474], 'Meteor': [0.40635594762530486], 'CIDEr': [1.8851065619551295]}\n"
     ]
    }
   ],
   "source": [
    "#with io.capture_output() as captured:\n",
    "get_all_stat(eval_data)\n",
    "    #all_eval_stat,all_eval_sum_stat = get_all_stat(selected_eval)"
   ]
  },
  {
   "cell_type": "code",
   "execution_count": null,
   "id": "c4f00ae5-3f9e-48bd-9bb5-d7e3ca8a7fd1",
   "metadata": {},
   "outputs": [],
   "source": [
    "# print(all_train_sum_stat)\n",
    "print(all_train_stat.keys())"
   ]
  },
  {
   "cell_type": "code",
   "execution_count": null,
   "id": "3b468e29-6688-45f6-bfd2-7edd176103e4",
   "metadata": {},
   "outputs": [],
   "source": [
    "def boxplot_metric(train_stat, test_stat, eval_stat):\n",
    "    # classes = ['Train'] * len(train_stat['Bleu1']) + ['Eval'] * len(eval_stat['Bleu1']) + ['Test'] * len(test_stat['Bleu1'])\n",
    "    # metrics = ['BLEU1', 'BLEU4', 'ROUGE'] * 3\n",
    "    # # Create a box plot\n",
    "    # score = []\n",
    "    # all_data = [train_stat,eval_stat,test_stat]\n",
    "    # for data in all_data:\n",
    "    # #     for value in train_stat:\n",
    "    #         score.extend(value)\n",
    "\n",
    "    data = [\n",
    "        ('Train', 'BLEU1', train_stat[\"Bleu1\"]),\n",
    "        ('Train', 'BLEU4', train_stat[\"Bleu4\"]),\n",
    "        ('Train', 'ROUGE', train_stat[\"ROUGE\"]),\n",
    "        ('Eval', 'BLEU1', eval_stat[\"Bleu1\"]),\n",
    "        ('Eval', 'BLEU4', eval_stat[\"Bleu4\"]),\n",
    "        ('Eval', 'ROUGE', eval_stat[\"ROUGE\"]),\n",
    "        ('Test', 'BLEU1', test_stat[\"Bleu1\"]),\n",
    "        ('Test', 'BLEU4', test_stat[\"Bleu4\"]),\n",
    "        ('Test', 'ROUGE', test_stat[\"ROUGE\"]),\n",
    "    ]\n",
    "    df = pd.DataFrame(data, columns=['Class', 'Metric', 'Score'])\n",
    "    df = df.explode('Score')\n",
    "    # print(df)\n",
    "    # # Create a pandas DataFrame from the data\n",
    "    # df = pd.DataFrame(seaborn_data)\n",
    "\n",
    "    # Create a box plot using Seaborn\n",
    "    sns.set(style=\"whitegrid\")  # Set the style\n",
    "    plt.figure(figsize=(8, 6))  # Set the figure size\n",
    "\n",
    "    # Create the box plot\n",
    "    sns.boxplot(x=\"Class\", y=\"Score\", hue=\"Metric\", data=df)\n",
    "    plt.legend(loc='upper right')\n",
    "    # Customize the plot\n",
    "    plt.title('Box Plot of Metrics for Different Classes')\n",
    "    plt.xlabel('Class')\n",
    "    plt.ylabel('Score')\n",
    "\n",
    "    # Show the plot\n",
    "    plt.show()"
   ]
  },
  {
   "cell_type": "code",
   "execution_count": 21,
   "id": "02c3afc9-63b1-4835-aae5-a50dd6238404",
   "metadata": {},
   "outputs": [
    {
     "name": "stderr",
     "output_type": "stream",
     "text": [
      "/home/z5313504/.local/lib/python3.10/site-packages/seaborn/_oldcore.py:1498: FutureWarning: is_categorical_dtype is deprecated and will be removed in a future version. Use isinstance(dtype, CategoricalDtype) instead\n",
      "  if pd.api.types.is_categorical_dtype(vector):\n",
      "/home/z5313504/.local/lib/python3.10/site-packages/seaborn/_oldcore.py:1498: FutureWarning: is_categorical_dtype is deprecated and will be removed in a future version. Use isinstance(dtype, CategoricalDtype) instead\n",
      "  if pd.api.types.is_categorical_dtype(vector):\n",
      "/home/z5313504/.local/lib/python3.10/site-packages/seaborn/_oldcore.py:1498: FutureWarning: is_categorical_dtype is deprecated and will be removed in a future version. Use isinstance(dtype, CategoricalDtype) instead\n",
      "  if pd.api.types.is_categorical_dtype(vector):\n",
      "/home/z5313504/.local/lib/python3.10/site-packages/seaborn/_oldcore.py:1498: FutureWarning: is_categorical_dtype is deprecated and will be removed in a future version. Use isinstance(dtype, CategoricalDtype) instead\n",
      "  if pd.api.types.is_categorical_dtype(vector):\n"
     ]
    },
    {
     "data": {
      "image/png": "[encoded data removed]",
      "text/plain": [
       "<Figure size 800x600 with 1 Axes>"
      ]
     },
     "metadata": {},
     "output_type": "display_data"
    }
   ],
   "source": [
    "boxplot_metric(all_train_stat,all_test_stat,all_eval_stat)"
   ]
  },
  {
   "cell_type": "code",
   "execution_count": 22,
   "id": "244f5d61-2f35-4900-ab59-b946bbe344be",
   "metadata": {},
   "outputs": [
    {
     "name": "stderr",
     "output_type": "stream",
     "text": [
      "/home/z5313504/.local/lib/python3.10/site-packages/seaborn/_oldcore.py:1498: FutureWarning: is_categorical_dtype is deprecated and will be removed in a future version. Use isinstance(dtype, CategoricalDtype) instead\n",
      "  if pd.api.types.is_categorical_dtype(vector):\n",
      "/home/z5313504/.local/lib/python3.10/site-packages/seaborn/_oldcore.py:1119: FutureWarning: use_inf_as_na option is deprecated and will be removed in a future version. Convert inf values to NaN before operating instead.\n",
      "  with pd.option_context('mode.use_inf_as_na', True):\n"
     ]
    },
    {
     "data": {
      "text/plain": [
       "<Axes: ylabel='Count'>"
      ]
     },
     "execution_count": 22,
     "metadata": {},
     "output_type": "execute_result"
    },
    {
     "data": {
      "image/png": "[encoded data removed]",
      "text/plain": [
       "<Figure size 640x480 with 1 Axes>"
      ]
     },
     "metadata": {},
     "output_type": "display_data"
    }
   ],
   "source": [
    "sns.histplot(data = all_train_stat[\"Bleu1\"],kde=True)"
   ]
  },
  {
   "cell_type": "code",
   "execution_count": 23,
   "id": "73adcb21-9814-4e86-b9f7-46860506abf7",
   "metadata": {},
   "outputs": [
    {
     "name": "stdout",
     "output_type": "stream",
     "text": [
      "min b1 is 0.3061224489733445 and pos is 2426\n",
      "min b4 is 1.558500916173644e-09 and pos is 2426\n",
      "min rouge is 0.2115606936416185 and pos is 4286\n",
      "115969_008\n"
     ]
    },
    {
     "data": {
      "text/plain": [
       "{'caption': ['Nuclear features show mild pleomorphism. Moderate crowding of the nuclei can be seen. The urothelium shows some degree of loss of polarity. Mitosis is rare throughout the tissue. Nucleoli is absent to inconspicuous. High grade.',\n",
       "  'Mild pleomorphism and cytologic atypia is present. The nuclei are crowded to a moderate degree. Polarity is not completely lost toward the surface urothelium. Mitosis are exceedingly rare and limited only to the basal layer of urothelium. Visible and prominent nucleoli are not observed or exceedingly rare. High grade.',\n",
       "  'Slight variability in nuclear size shape and outline, consistent with mild pleomorphism. Nuclei are moderately crowded together. Architecturally no overt lack of polarity is observed. Mitosis is rare throughout the tissue. Nucleoli is absent to inconspicuous. High grade.',\n",
       "  'Nuclear features show mild pleomorphism. Moderate nuclear crowding is seen. The urothelium shows some degree of loss of polarity. Mitosis is rare throughout the tissue. The nuclei have inconspicuous nucleoli. High grade.',\n",
       "  'Slight variability in nuclear size shape and outline, consistent with mild pleomorphism. Moderate crowding of the nuclei can be seen. There is no full-thickness lack of polarity observed. Mitosis is rare throughout the tissue. Nucleoli is absent to inconspicuous. High grade.'],\n",
       " 'label': 2}"
      ]
     },
     "execution_count": 23,
     "metadata": {},
     "output_type": "execute_result"
    }
   ],
   "source": [
    "# find the location of the biggest outlier, so lowest similarity\n",
    "min_train_b1 = min(all_train_stat['Bleu1'])\n",
    "print(f\"min b1 is {min_train_b1} and pos is {all_train_stat['Bleu1'].index(min_train_b1)}\")\n",
    "min_train_b4 = min(all_train_stat['Bleu4'])\n",
    "print(f\"min b4 is {min_train_b4} and pos is {all_train_stat['Bleu4'].index(min_train_b4)}\")\n",
    "min_train_rouge = min(all_train_stat['ROUGE'])\n",
    "print(f\"min rouge is {min_train_rouge} and pos is {all_train_stat['ROUGE'].index(min_train_rouge)}\")\n",
    "print(list(train_data.keys())[int(all_train_stat['Bleu4'].index(min_train_b4)/5)])\n",
    "train_data[\"115969_008\"]"
   ]
  },
  {
   "cell_type": "code",
   "execution_count": 24,
   "id": "7988a4fc-03b4-4e03-a1db-7df1dc478858",
   "metadata": {},
   "outputs": [
    {
     "name": "stdout",
     "output_type": "stream",
     "text": [
      "{'testlen': 49, 'reflen': 41, 'guess': [49, 48, 47, 46], 'correct': [15, 2, 0, 0]}\n",
      "ratio: 1.195121951190363\n",
      "{'Bleu1': [0.3061224489733445], 'Bleu4': [1.558500916173644e-09], 'ROUGE': [0.21172387196297723]}\n"
     ]
    }
   ],
   "source": [
    "gen = {'1':\n",
    "      ['Mild pleomorphism and cytologic atypia is present. The nuclei are crowded to a moderate degree. Polarity is not completely lost toward the surface urothelium. Mitosis are exceedingly rare and limited only to the basal layer of urothelium. Visible and prominent nucleoli are not observed or exceedingly rare. High grade.'\n",
    "      ]}\n",
    "\n",
    "\n",
    "ref = {\n",
    "    '1':['Nuclear features show mild pleomorphism. Moderate crowding of the nuclei can be seen. The urothelium shows some degree of loss of polarity. Mitosis is rare throughout the tissue. Nucleoli is absent to inconspicuous. High grade.',\n",
    "  'Slight variability in nuclear size shape and outline, consistent with mild pleomorphism. Nuclei are moderately crowded together. Architecturally no overt lack of polarity is observed. Mitosis is rare throughout the tissue. Nucleoli is absent to inconspicuous. High grade.',\n",
    "  'Nuclear features show mild pleomorphism. Moderate nuclear crowding is seen. The urothelium shows some degree of loss of polarity. Mitosis is rare throughout the tissue. The nuclei have inconspicuous nucleoli. High grade.',\n",
    "  'Slight variability in nuclear size shape and outline, consistent with mild pleomorphism. Moderate crowding of the nuclei can be seen. There is no full-thickness lack of polarity observed. Mitosis is rare throughout the tissue. Nucleoli is absent to inconspicuous. High grade.']\n",
    "}\n",
    "\n",
    "scorer = Scorer(ref,gen)\n",
    "tol_scores = scorer.compute_scores()\n",
    "print(tol_scores)\n"
   ]
  },
  {
   "cell_type": "code",
   "execution_count": 25,
   "id": "63a5c8ea-d7ef-405e-a539-3f285da756da",
   "metadata": {},
   "outputs": [],
   "source": [
    "# for i in train_data.values():\n",
    "#     if i['label'] == 3:\n",
    "#         print(i['caption'][0])\n",
    "#         print(\"-----------\")"
   ]
  },
  {
   "cell_type": "code",
   "execution_count": 26,
   "id": "ed4b638d-0df7-4119-9eda-e3c7b9067f60",
   "metadata": {},
   "outputs": [],
   "source": [
    "def calculate_data(all_stat,sum_stat):\n",
    "    # from all_stat calculate total mean and variance for each stat\n",
    "    total_bleu1_mean = np.mean(all_stat['Bleu1'])\n",
    "    total_bleu1_std = np.std(all_stat['Bleu1'])\n",
    "    total_bleu4_mean = np.mean(all_stat['Bleu4'])\n",
    "    total_bleu4_std = np.std(all_stat['Bleu4'])\n",
    "    total_rouge_mean = np.mean(all_stat[\"ROUGE\"])\n",
    "    total_rouge_std = np.std(all_stat['ROUGE'])\n",
    "    print(\"Total Bleu1 Mean:\", total_bleu1_mean)\n",
    "    print(\"Total Bleu1 Std:\", total_bleu1_std)\n",
    "    print(\"Total Bleu4 Mean:\", total_bleu4_mean)\n",
    "    print(\"Total Bleu4 Std:\", total_bleu4_std)\n",
    "    print(\"Total Rouge Mean:\", total_rouge_mean)\n",
    "    print(\"Total Rouge Std:\", total_rouge_std)"
   ]
  },
  {
   "cell_type": "code",
   "execution_count": 27,
   "id": "1ee67de5-9760-4c70-9d37-159264f13dac",
   "metadata": {},
   "outputs": [],
   "source": [
    "# all_train_stat['Bleu1']"
   ]
  },
  {
   "cell_type": "code",
   "execution_count": 28,
   "id": "5b8b19f9-105f-4791-8664-aeaa8a245794",
   "metadata": {},
   "outputs": [],
   "source": [
    "# pd.Series(all_train_stat['Bleu1']).describe()\n",
    "# pd.Series(all_train_stat['Bleu4']).describe()\n",
    "# pd.Series(all_train_stat['ROUGE']).describe()"
   ]
  },
  {
   "cell_type": "code",
   "execution_count": 29,
   "id": "c543a6db-ca91-42de-b374-8db4a686ccf8",
   "metadata": {},
   "outputs": [
    {
     "name": "stdout",
     "output_type": "stream",
     "text": [
      "Total Bleu1 Mean: 0.8245329264901774\n",
      "Total Bleu1 Std: 0.12781217745311563\n",
      "Total Bleu4 Mean: 0.6648655885116892\n",
      "Total Bleu4 Std: 0.2067598404617853\n",
      "Total Rouge Mean: 0.6393684143564845\n",
      "Total Rouge Std: 0.15908078613957474\n"
     ]
    }
   ],
   "source": [
    "calculate_data(all_train_stat,all_train_sum_stat)"
   ]
  },
  {
   "cell_type": "code",
   "execution_count": 30,
   "id": "85bf7085-b98d-4dd2-9c1c-dd8b3cc0137b",
   "metadata": {},
   "outputs": [
    {
     "name": "stdout",
     "output_type": "stream",
     "text": [
      "Total Bleu1 Mean: 0.8178154359092934\n",
      "Total Bleu1 Std: 0.1274715929732071\n",
      "Total Bleu4 Mean: 0.6539107081095807\n",
      "Total Bleu4 Std: 0.199849542094963\n",
      "Total Rouge Mean: 0.623427282610474\n",
      "Total Rouge Std: 0.14363432368960422\n"
     ]
    }
   ],
   "source": [
    "calculate_data(all_eval_stat,all_eval_sum_stat)"
   ]
  },
  {
   "cell_type": "code",
   "execution_count": 31,
   "id": "45bbb705-cb8c-4582-8a04-3cbe3eefe0e9",
   "metadata": {},
   "outputs": [
    {
     "name": "stdout",
     "output_type": "stream",
     "text": [
      "Total Bleu1 Mean: 0.819927935813276\n",
      "Total Bleu1 Std: 0.12637439946545212\n",
      "Total Bleu4 Mean: 0.660422955996771\n",
      "Total Bleu4 Std: 0.1993342286178083\n",
      "Total Rouge Mean: 0.632644059462228\n",
      "Total Rouge Std: 0.1450695904270764\n"
     ]
    }
   ],
   "source": [
    "calculate_data(all_test_stat,all_test_sum_stat)"
   ]
  },
  {
   "cell_type": "markdown",
   "id": "2b119572-c6e4-40b5-92cf-3f5c079b2f87",
   "metadata": {},
   "source": [
    "## Combine train test eval stat together"
   ]
  },
  {
   "cell_type": "code",
   "execution_count": 32,
   "id": "821590c5-e07e-438d-84a6-c7c09080e808",
   "metadata": {},
   "outputs": [],
   "source": [
    "all_bleu1 = all_train_stat[\"Bleu1\"]+all_eval_stat[\"Bleu1\"]+all_test_stat[\"Bleu1\"]\n",
    "all_bleu4 = all_train_stat[\"Bleu4\"]+all_eval_stat[\"Bleu4\"]+all_test_stat[\"Bleu4\"]\n",
    "all_rouge = all_train_stat[\"ROUGE\"]+all_eval_stat[\"ROUGE\"]+all_test_stat[\"ROUGE\"]\n",
    "full_metric = pd.DataFrame({\"Bleu1\":all_bleu1,\n",
    "              \"Bleu4\":all_bleu4,\n",
    "              \"ROUGE\":all_rouge})"
   ]
  },
  {
   "cell_type": "code",
   "execution_count": 33,
   "id": "c0106c17-bd4d-4acc-9e23-2f4d44829191",
   "metadata": {},
   "outputs": [
    {
     "name": "stderr",
     "output_type": "stream",
     "text": [
      "/home/z5313504/.local/lib/python3.10/site-packages/seaborn/_oldcore.py:1498: FutureWarning: is_categorical_dtype is deprecated and will be removed in a future version. Use isinstance(dtype, CategoricalDtype) instead\n",
      "  if pd.api.types.is_categorical_dtype(vector):\n",
      "/home/z5313504/.local/lib/python3.10/site-packages/seaborn/_oldcore.py:1498: FutureWarning: is_categorical_dtype is deprecated and will be removed in a future version. Use isinstance(dtype, CategoricalDtype) instead\n",
      "  if pd.api.types.is_categorical_dtype(vector):\n",
      "/home/z5313504/.local/lib/python3.10/site-packages/seaborn/_oldcore.py:1498: FutureWarning: is_categorical_dtype is deprecated and will be removed in a future version. Use isinstance(dtype, CategoricalDtype) instead\n",
      "  if pd.api.types.is_categorical_dtype(vector):\n",
      "/home/z5313504/.local/lib/python3.10/site-packages/seaborn/_oldcore.py:1498: FutureWarning: is_categorical_dtype is deprecated and will be removed in a future version. Use isinstance(dtype, CategoricalDtype) instead\n",
      "  if pd.api.types.is_categorical_dtype(vector):\n",
      "/home/z5313504/.local/lib/python3.10/site-packages/seaborn/_oldcore.py:1498: FutureWarning: is_categorical_dtype is deprecated and will be removed in a future version. Use isinstance(dtype, CategoricalDtype) instead\n",
      "  if pd.api.types.is_categorical_dtype(vector):\n",
      "/home/z5313504/.local/lib/python3.10/site-packages/seaborn/_oldcore.py:1498: FutureWarning: is_categorical_dtype is deprecated and will be removed in a future version. Use isinstance(dtype, CategoricalDtype) instead\n",
      "  if pd.api.types.is_categorical_dtype(vector):\n",
      "/home/z5313504/.local/lib/python3.10/site-packages/seaborn/_oldcore.py:1498: FutureWarning: is_categorical_dtype is deprecated and will be removed in a future version. Use isinstance(dtype, CategoricalDtype) instead\n",
      "  if pd.api.types.is_categorical_dtype(vector):\n",
      "/home/z5313504/.local/lib/python3.10/site-packages/seaborn/_oldcore.py:1119: FutureWarning: use_inf_as_na option is deprecated and will be removed in a future version. Convert inf values to NaN before operating instead.\n",
      "  with pd.option_context('mode.use_inf_as_na', True):\n"
     ]
    },
    {
     "data": {
      "text/plain": [
       "Text(0.5, 1.0, 'Histogram for all text')"
      ]
     },
     "execution_count": 33,
     "metadata": {},
     "output_type": "execute_result"
    },
    {
     "data": {
      "image/png": "[encoded data removed]",
      "text/plain": [
       "<Figure size 640x480 with 1 Axes>"
      ]
     },
     "metadata": {},
     "output_type": "display_data"
    }
   ],
   "source": [
    "sns.histplot(data = full_metric,kde=True)\n",
    "plt.title(\"Histogram for all text\")"
   ]
  },
  {
   "cell_type": "code",
   "execution_count": 34,
   "id": "36b1ca2e-0b28-48f4-9332-bf38957ec7be",
   "metadata": {},
   "outputs": [
    {
     "name": "stderr",
     "output_type": "stream",
     "text": [
      "/home/z5313504/.local/lib/python3.10/site-packages/seaborn/_oldcore.py:1498: FutureWarning: is_categorical_dtype is deprecated and will be removed in a future version. Use isinstance(dtype, CategoricalDtype) instead\n",
      "  if pd.api.types.is_categorical_dtype(vector):\n",
      "/home/z5313504/.local/lib/python3.10/site-packages/seaborn/_oldcore.py:1498: FutureWarning: is_categorical_dtype is deprecated and will be removed in a future version. Use isinstance(dtype, CategoricalDtype) instead\n",
      "  if pd.api.types.is_categorical_dtype(vector):\n",
      "/home/z5313504/.local/lib/python3.10/site-packages/seaborn/_oldcore.py:1498: FutureWarning: is_categorical_dtype is deprecated and will be removed in a future version. Use isinstance(dtype, CategoricalDtype) instead\n",
      "  if pd.api.types.is_categorical_dtype(vector):\n"
     ]
    },
    {
     "data": {
      "text/plain": [
       "Text(0.5, 1.0, 'Violin Plot for all text')"
      ]
     },
     "execution_count": 34,
     "metadata": {},
     "output_type": "execute_result"
    },
    {
     "data": {
      "image/png": "[encoded data removed]",
      "text/plain": [
       "<Figure size 640x480 with 1 Axes>"
      ]
     },
     "metadata": {},
     "output_type": "display_data"
    }
   ],
   "source": [
    "sns.violinplot(data=full_metric)\n",
    "plt.title(\"Violin Plot for all text\")"
   ]
  },
  {
   "cell_type": "code",
   "execution_count": 35,
   "id": "b11018e1-ea1d-4b35-8f70-4e611d982482",
   "metadata": {},
   "outputs": [
    {
     "name": "stderr",
     "output_type": "stream",
     "text": [
      "/home/z5313504/.local/lib/python3.10/site-packages/seaborn/_oldcore.py:1498: FutureWarning: is_categorical_dtype is deprecated and will be removed in a future version. Use isinstance(dtype, CategoricalDtype) instead\n",
      "  if pd.api.types.is_categorical_dtype(vector):\n",
      "/home/z5313504/.local/lib/python3.10/site-packages/seaborn/_oldcore.py:1498: FutureWarning: is_categorical_dtype is deprecated and will be removed in a future version. Use isinstance(dtype, CategoricalDtype) instead\n",
      "  if pd.api.types.is_categorical_dtype(vector):\n",
      "/home/z5313504/.local/lib/python3.10/site-packages/seaborn/_oldcore.py:1498: FutureWarning: is_categorical_dtype is deprecated and will be removed in a future version. Use isinstance(dtype, CategoricalDtype) instead\n",
      "  if pd.api.types.is_categorical_dtype(vector):\n"
     ]
    },
    {
     "data": {
      "text/plain": [
       "Text(0.5, 1.0, 'Box Plot for all text')"
      ]
     },
     "execution_count": 35,
     "metadata": {},
     "output_type": "execute_result"
    },
    {
     "data": {
      "image/png": "[encoded data removed]",
      "text/plain": [
       "<Figure size 640x480 with 1 Axes>"
      ]
     },
     "metadata": {},
     "output_type": "display_data"
    }
   ],
   "source": [
    "sns.boxplot(data=full_metric)\n",
    "plt.title(\"Box Plot for all text\")"
   ]
  },
  {
   "cell_type": "code",
   "execution_count": 38,
   "id": "fd93e7c2-0329-4f2f-b42f-73f19c355833",
   "metadata": {},
   "outputs": [
    {
     "data": {
      "text/plain": [
       "Index(['Bleu1', 'Bleu4', 'ROUGE'], dtype='object')"
      ]
     },
     "execution_count": 38,
     "metadata": {},
     "output_type": "execute_result"
    }
   ],
   "source": [
    "full_metric.keys()"
   ]
  },
  {
   "cell_type": "code",
   "execution_count": 47,
   "id": "20a1fa23-7146-4faa-8bf8-7dbf78b9a5e1",
   "metadata": {},
   "outputs": [
    {
     "data": {
      "text/plain": [
       "0.20365125429450637"
      ]
     },
     "execution_count": 47,
     "metadata": {},
     "output_type": "execute_result"
    }
   ],
   "source": [
    "full_metric['Bleu4'].std()"
   ]
  },
  {
   "cell_type": "code",
   "execution_count": 13,
   "id": "f9eeb6b8",
   "metadata": {},
   "outputs": [
    {
     "ename": "SyntaxError",
     "evalue": "incomplete input (3935262020.py, line 25)",
     "output_type": "error",
     "traceback": [
      "\u001b[0;36m  Cell \u001b[0;32mIn[13], line 25\u001b[0;36m\u001b[0m\n\u001b[0;31m    \u001b[0m\n\u001b[0m    ^\u001b[0m\n\u001b[0;31mSyntaxError\u001b[0m\u001b[0;31m:\u001b[0m incomplete input\n"
     ]
    }
   ],
   "source": [
    "'''\n",
    "Strategy:\n",
    "\n",
    "Inter Caption Quality\n",
    "Intra Caption Quality\n",
    "'''\n",
    "\n",
    "# Intra\n",
    "def calculate_intra(data):\n",
    "    '''\n",
    "    data log is like {\n",
    "        \"img_name\":{\n",
    "            bleu1:[]\n",
    "            bleu4:[]\n",
    "            rouge:[]\n",
    "            meteor:[]\n",
    "            cider:[]\n",
    "        },\n",
    "    }\n",
    "    '''\n",
    "    data_log = {\n",
    "        'Bleu1_mean':[],\n",
    "        'Bleu1_std':[],\n",
    "        'Bleu4_mean':[],\n",
    "        'ROUGE':[],\n",
    "    }\n",
    "    for img_name,value in data.items():\n",
    "        "
   ]
  },
  {
   "cell_type": "code",
   "execution_count": null,
   "id": "2566bf1c-eecc-42ee-a992-03e0ce8cccb7",
   "metadata": {},
   "outputs": [],
   "source": []
  }
 ],
 "metadata": {
  "kernelspec": {
   "display_name": "Python 3.10.8 (ipykernel)",
   "language": "python",
   "name": "python-3.10.8"
  },
  "language_info": {
   "codemirror_mode": {
    "name": "ipython",
    "version": 3
   },
   "file_extension": ".py",
   "mimetype": "text/x-python",
   "name": "python",
   "nbconvert_exporter": "python",
   "pygments_lexer": "ipython3",
   "version": "3.10.8"
  }
 },
 "nbformat": 4,
 "nbformat_minor": 5
}
